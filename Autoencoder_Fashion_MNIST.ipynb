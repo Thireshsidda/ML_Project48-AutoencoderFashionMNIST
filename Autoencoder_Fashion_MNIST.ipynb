{
 "cells": [
  {
   "cell_type": "markdown",
   "metadata": {},
   "source": [
    "### In this notebook, we will see how we can use autoencoder as a classifier with fashion MNIST dataset.\n",
    "- Fashion MNIST dataset is a 28x28 grayscale images of 70,000 fashion products from 10 categories, with 7,000 images per category. The training set has 60,000 images, and the test set has 10,000 images.\n",
    "- It is a replacement for the original MNIST handwritten digits dataset for producing better results. The Fashion MNIST dataset consists of 10 different classes of fashion accessories like shirts, trousers, sandals, etc \n",
    "- The image dimensions, training and test splits are similar to the original MNIST dataset. \n",
    "- The dataset is freely available on this URL and can be loaded using both tensorflow and keras as a framework without having to download it on your computer."
   ]
  },
  {
   "cell_type": "markdown",
   "metadata": {},
   "source": [
    "So, what we want to do is built a convolutional autoencoder and use the encoder part of it combined with fully connected layers to recognize a new sample from the test set correctly."
   ]
  },
  {
   "cell_type": "code",
   "execution_count": 63,
   "metadata": {},
   "outputs": [],
   "source": [
    "# Loading the dependencies\n",
    "import pandas as pd\n",
    "import numpy as np\n",
    "import matplotlib.pyplot as plt\n",
    "%matplotlib inline\n",
    "import gzip\n",
    "\n",
    "from sklearn.model_selection import train_test_split\n",
    "\n",
    "from keras.models import Model, Sequential\n",
    "from keras.optimizers import RMSprop, Adam, SGD, Adadelta\n",
    "from keras.layers import Conv2D, Input, Dense, Flatten,Dropout, merge, Reshape, MaxPooling2D, UpSampling2D, Conv2DTranspose\n",
    "from keras.layers.normalization import BatchNormalization\n",
    "from keras.callbacks import ModelCheckpoint, CSVLogger, EarlyStopping\n",
    "from keras import regularizers\n",
    "from keras import backend as k\n",
    "from keras.utils import to_categorical\n",
    "\n",
    "from sklearn.metrics import confusion_matrix, classification_report, accuracy_score\n",
    "import itertools\n",
    "\n",
    "# import os\n",
    "# os.environ[\"TF_CPP_MIN_LOG_LEVEL\"]=\"3\""
   ]
  },
  {
   "cell_type": "markdown",
   "metadata": {},
   "source": [
    "The way we read the data is as follows:\n",
    "- We open and read the gzip file as bytestream\n",
    "- We then convert the string stored in buffer using np.frombuffer() to numpy array of type float32.\n",
    "- Data is then reshaped into a 3-dimentional array."
   ]
  },
  {
   "cell_type": "markdown",
   "metadata": {},
   "source": [
    "### Loading the data"
   ]
  },
  {
   "cell_type": "code",
   "execution_count": 4,
   "metadata": {},
   "outputs": [],
   "source": [
    "def extract_data(filename, num_images):\n",
    "    with gzip.open(filename) as bytestream:\n",
    "        bytestream.read(16)\n",
    "        buffer = bytestream.read(28 * 28 * num_images)\n",
    "        data = np.frombuffer(buffer, dtype = np.uint8).astype(np.float32)\n",
    "        data = data.reshape(num_images, 28,28)\n",
    "        return data"
   ]
  },
  {
   "cell_type": "code",
   "execution_count": 5,
   "metadata": {},
   "outputs": [],
   "source": [
    "train_data = extract_data('train-images-idx3-ubyte.gz' ,60000)\n",
    "test_data = extract_data('t10k-images-idx3-ubyte.gz',10000)"
   ]
  },
  {
   "cell_type": "markdown",
   "metadata": {},
   "source": [
    "The way we read the labels is the same as we read the data:\n",
    "- We define a function which opens the label file as a bytestream using bytestream.read() to which you pass the label dimension as 1 and the total number of images.\n",
    "- We then convert the string stored in the buffer to a numpy array of type int64.\n",
    "- We do not need to reshape the array since the variable labels will return a column vector of dimension 60,000 x 1."
   ]
  },
  {
   "cell_type": "code",
   "execution_count": 6,
   "metadata": {},
   "outputs": [],
   "source": [
    "def extract_labels(filename, num_images):\n",
    "    with gzip.open(filename) as bytestream:\n",
    "        bytestream.read(8)\n",
    "        buffer = bytestream.read(1 * num_images)\n",
    "        labels = np.frombuffer(buffer, dtype = np.uint8).astype(np.uint64)\n",
    "        return labels"
   ]
  },
  {
   "cell_type": "code",
   "execution_count": 7,
   "metadata": {},
   "outputs": [],
   "source": [
    "train_labels = extract_labels('train-labels-idx1-ubyte.gz', 60000)\n",
    "test_labels = extract_labels('t10k-labels-idx1-ubyte.gz',10000)"
   ]
  },
  {
   "cell_type": "code",
   "execution_count": 8,
   "metadata": {},
   "outputs": [
    {
     "data": {
      "text/plain": [
       "array([9, 0, 0, 3, 0, 2, 7, 2, 5, 5], dtype=uint64)"
      ]
     },
     "execution_count": 8,
     "metadata": {},
     "output_type": "execute_result"
    }
   ],
   "source": [
    "train_labels[:10]"
   ]
  },
  {
   "cell_type": "markdown",
   "metadata": {},
   "source": [
    "### Data Exploration"
   ]
  },
  {
   "cell_type": "code",
   "execution_count": 9,
   "metadata": {},
   "outputs": [
    {
     "name": "stdout",
     "output_type": "stream",
     "text": [
      "Training set (images) shape: {shape} (60000, 28, 28)\n",
      "Test set (image) shape: {shape} (10000, 28, 28)\n"
     ]
    }
   ],
   "source": [
    "# To see the dimension of images in the training set\n",
    "print(\"Training set (images) shape: {shape}\", format(train_data.shape))\n",
    "\n",
    "# To see the dimension of images in the test set\n",
    "print(\"Test set (image) shape: {shape}\", format(test_data.shape))"
   ]
  },
  {
   "cell_type": "markdown",
   "metadata": {},
   "source": [
    "We don't need training an testing labels for convolutional encoder as the task at hand is to reconstruct the images. However, we do need them for classification task and for data exploration purposes."
   ]
  },
  {
   "cell_type": "code",
   "execution_count": 10,
   "metadata": {},
   "outputs": [],
   "source": [
    "# we will now create a dictionary of class names with their corresponding class labels:\n",
    "label_dict = {\n",
    "    0: 'A',\n",
    "    1: 'B',\n",
    "    2: 'C',\n",
    "    3: 'D',\n",
    "    4: 'E',\n",
    "    5: 'F',\n",
    "    6: 'G',\n",
    "    7: 'H',\n",
    "    8: 'I',\n",
    "    9: 'J' \n",
    "}"
   ]
  },
  {
   "cell_type": "markdown",
   "metadata": {},
   "source": [
    "Let us now look at few of the images in the dataset"
   ]
  },
  {
   "cell_type": "code",
   "execution_count": 11,
   "metadata": {},
   "outputs": [
    {
     "data": {
      "text/plain": [
       "Text(0.5,1,'(Label: E)')"
      ]
     },
     "execution_count": 11,
     "metadata": {},
     "output_type": "execute_result"
    },
    {
     "data": {
      "image/png": "[encoded data removed]",
      "text/plain": [
       "<matplotlib.figure.Figure at 0x7f8e7ce32a20>"
      ]
     },
     "metadata": {},
     "output_type": "display_data"
    }
   ],
   "source": [
    "plt.figure(figsize=[5,5])\n",
    "\n",
    "# display an image from the training data\n",
    "plt.subplot(121)\n",
    "curr_img = np.reshape(train_data[10], (28,28))\n",
    "curr_label = train_labels[10]\n",
    "plt.imshow(curr_img, cmap = 'gray')\n",
    "plt.title(\"(Label: \" + str(label_dict[curr_label]) + \")\")\n",
    "\n",
    "# display an image from the testing data\n",
    "plt.subplot(122)\n",
    "curr_img = np.reshape(test_data[10], (28,28))\n",
    "curr_label = test_labels[10]\n",
    "plt.imshow(curr_img, cmap= 'gray')\n",
    "plt.title(\"(Label: \" + str(label_dict[curr_label])+ \")\")"
   ]
  },
  {
   "cell_type": "markdown",
   "metadata": {},
   "source": [
    "These images are assigned class labels as 0 or A / 4 or E. This means all the alphabets having class of E will have the class label of 4.\n"
   ]
  },
  {
   "cell_type": "markdown",
   "metadata": {},
   "source": [
    "### Data Preprocessing"
   ]
  },
  {
   "cell_type": "markdown",
   "metadata": {},
   "source": [
    "We need to do the preprocessing of the data before feeding it to the model as our images are gray scale images having pixel values ranging from 0 to 255 with dimension of 28 * 28.\n",
    "So we will convert each 28 * 28 image into a matrix of size 28 * 28 * 1 which can be fed to the network."
   ]
  },
  {
   "cell_type": "code",
   "execution_count": 12,
   "metadata": {},
   "outputs": [
    {
     "name": "stdout",
     "output_type": "stream",
     "text": [
      "Train data shape (60000, 28, 28, 1)\n",
      "Test data shape (10000, 28, 28, 1)\n"
     ]
    }
   ],
   "source": [
    "train_data = train_data.reshape(-1, 28, 28, 1)\n",
    "test_data = test_data.reshape(-1, 28, 28, 1)\n",
    "print(\"Train data shape\", train_data.shape)\n",
    "print(\"Test data shape\", test_data.shape)"
   ]
  },
  {
   "cell_type": "code",
   "execution_count": 13,
   "metadata": {},
   "outputs": [
    {
     "data": {
      "text/plain": [
       "(dtype('float32'), dtype('float32'))"
      ]
     },
     "execution_count": 13,
     "metadata": {},
     "output_type": "execute_result"
    }
   ],
   "source": [
    "# checking the datatype of the numpy arrays\n",
    "train_data.dtype, test_data.dtype"
   ]
  },
  {
   "cell_type": "code",
   "execution_count": 14,
   "metadata": {},
   "outputs": [],
   "source": [
    "# rescaling the pixel values to 0-1 scale by rescaling with maximum pixel value of the training and testing data\n",
    "train_data = train_data / np.max(train_data)\n",
    "test_data = test_data / np.max(test_data)"
   ]
  },
  {
   "cell_type": "code",
   "execution_count": 15,
   "metadata": {},
   "outputs": [
    {
     "data": {
      "text/plain": [
       "(1.0, 1.0)"
      ]
     },
     "execution_count": 15,
     "metadata": {},
     "output_type": "execute_result"
    }
   ],
   "source": [
    "# verify the maximum value of the training and the testing data\n",
    "np.max(train_data), np.max(test_data)"
   ]
  },
  {
   "cell_type": "markdown",
   "metadata": {},
   "source": [
    "### Splitting the data into train and validation sets"
   ]
  },
  {
   "cell_type": "code",
   "execution_count": 16,
   "metadata": {},
   "outputs": [],
   "source": [
    "# We will now split the data into 80% training and 20% validation. This will help us to reduce the chances of overfitting\n",
    "# as you would be validating the model on the data it has not seen in the training.\n",
    "X_train, X_val, y_train, y_val = train_test_split(train_data, train_data, test_size = 0.2, random_state = 12345)"
   ]
  },
  {
   "cell_type": "code",
   "execution_count": 17,
   "metadata": {},
   "outputs": [
    {
     "data": {
      "text/plain": [
       "((48000, 28, 28, 1), (12000, 28, 28, 1))"
      ]
     },
     "execution_count": 17,
     "metadata": {},
     "output_type": "execute_result"
    }
   ],
   "source": [
    "X_train.shape, X_val.shape"
   ]
  },
  {
   "cell_type": "code",
   "execution_count": 18,
   "metadata": {},
   "outputs": [],
   "source": [
    "# Now the data is ready to be fed to the network. \n",
    "batch_size = 128\n",
    "epochs = 200\n",
    "channel = 1\n",
    "x, y = 28, 28\n",
    "input_image = Input(shape = (x, y, channel))\n",
    "num_classes = 10"
   ]
  },
  {
   "cell_type": "markdown",
   "metadata": {},
   "source": [
    "We will build encoder and a decoder using convolutional layers.\n",
    "Batch Normalization layer is used"
   ]
  },
  {
   "cell_type": "code",
   "execution_count": 19,
   "metadata": {},
   "outputs": [],
   "source": [
    "# Building an encoder\n",
    "def encoder(input_image):\n",
    "    # input dimension - 28 * 28 * 1\n",
    "    conv1 = Conv2D(32, (3,3), activation = 'relu', padding = 'same') (input_image)  # 28 *28 * 32\n",
    "    conv1 = BatchNormalization()(conv1)\n",
    "    conv1 = Conv2D(32, (3,3), activation = 'relu', padding = 'same') (conv1)\n",
    "    conv1 = BatchNormalization()(conv1)\n",
    "    pool1 = MaxPooling2D(pool_size = (2,2))(conv1)  # 14 * 14 * 32\n",
    "    conv2 = Conv2D(64, (3,3), activation = 'relu', padding = 'same') (pool1) # 14 * 14 * 64\n",
    "    conv2 = BatchNormalization()(conv2)\n",
    "    conv2 = Conv2D(64, (3,3), activation = 'relu', padding = 'same') (conv2)\n",
    "    conv2 = BatchNormalization()(conv2)\n",
    "    pool2 = MaxPooling2D(pool_size = (2,2)) (conv2) # 7 * 7 * 64\n",
    "    conv3 = Conv2D(128, (3,3), activation = 'relu', padding = 'same') (pool2) # 7 * 7 * 128\n",
    "    conv3 = BatchNormalization()(conv3)\n",
    "    conv3 = Conv2D(128, (3,3), activation = 'relu', padding = 'same') (conv3)\n",
    "    conv3 = BatchNormalization()(conv3)\n",
    "    conv4 = Conv2D(256,(3,3), activation = 'relu', padding = 'same') (conv3) # 7 * 7 * 256\n",
    "    conv4 = BatchNormalization()(conv4)\n",
    "    conv4 = Conv2D(256, (3,3), activation = 'relu', padding = 'same') (conv4)\n",
    "    conv4 = BatchNormalization()(conv4)\n",
    "    return conv4"
   ]
  },
  {
   "cell_type": "code",
   "execution_count": 20,
   "metadata": {},
   "outputs": [],
   "source": [
    "# Building a decoder\n",
    "def decoder(conv4):\n",
    "    conv5 = Conv2D(128, (3,3), activation = 'relu', padding = 'same') (conv4) # 7 * 7 * 128\n",
    "    conv5 = BatchNormalization()(conv5)\n",
    "    conv5 = Conv2D(128, (3,3), activation = 'relu', padding = 'same')(conv5)\n",
    "    conv5 = BatchNormalization()(conv5)\n",
    "    conv6 = Conv2D(64, (3,3), activation= 'relu', padding ='same') (conv5)# 7 * 7 * 64\n",
    "    conv6 = BatchNormalization()(conv6)\n",
    "    conv6 = Conv2D(64, (3,3), activation= 'relu', padding = 'same')(conv6)\n",
    "    conv6 = BatchNormalization()(conv6)\n",
    "    up1 = UpSampling2D((2,2)) (conv6)  # 14 * 14 * 64\n",
    "    conv7 = Conv2D(32, (3,3), activation = 'relu', padding = 'same') (up1)# 14 * 14 * 32\n",
    "    conv7 = BatchNormalization()(conv7)\n",
    "    conv7 = Conv2D(32, (3,3), activation ='relu', padding = 'same')(conv7)\n",
    "    conv7 = BatchNormalization()(conv7)\n",
    "    up2 = UpSampling2D((2,2))(conv7) # 28 * 28 * 32\n",
    "    decoded = Conv2D(1,(3, 3),  activation = 'sigmoid', padding ='same') (up2) # 28 * 28 * 1\n",
    "    return decoded"
   ]
  },
  {
   "cell_type": "code",
   "execution_count": 21,
   "metadata": {},
   "outputs": [],
   "source": [
    "# Compiling the model using RMSProp optimizer (helps in reducing overfitting by \n",
    "# changing learning rate while the model is training) and specifying the loss as mean squared loss\n",
    "autoencoder = Model(input_image, decoder(encoder(input_image)))\n",
    "autoencoder.compile(loss='mean_squared_error', optimizer = RMSprop())"
   ]
  },
  {
   "cell_type": "code",
   "execution_count": 22,
   "metadata": {},
   "outputs": [
    {
     "name": "stdout",
     "output_type": "stream",
     "text": [
      "_________________________________________________________________\n",
      "Layer (type)                 Output Shape              Param #   \n",
      "=================================================================\n",
      "input_1 (InputLayer)         (None, 28, 28, 1)         0         \n",
      "_________________________________________________________________\n",
      "conv2d_1 (Conv2D)            (None, 28, 28, 32)        320       \n",
      "_________________________________________________________________\n",
      "batch_normalization_1 (Batch (None, 28, 28, 32)        128       \n",
      "_________________________________________________________________\n",
      "conv2d_2 (Conv2D)            (None, 28, 28, 32)        9248      \n",
      "_________________________________________________________________\n",
      "batch_normalization_2 (Batch (None, 28, 28, 32)        128       \n",
      "_________________________________________________________________\n",
      "max_pooling2d_1 (MaxPooling2 (None, 14, 14, 32)        0         \n",
      "_________________________________________________________________\n",
      "conv2d_3 (Conv2D)            (None, 14, 14, 64)        18496     \n",
      "_________________________________________________________________\n",
      "batch_normalization_3 (Batch (None, 14, 14, 64)        256       \n",
      "_________________________________________________________________\n",
      "conv2d_4 (Conv2D)            (None, 14, 14, 64)        36928     \n",
      "_________________________________________________________________\n",
      "batch_normalization_4 (Batch (None, 14, 14, 64)        256       \n",
      "_________________________________________________________________\n",
      "max_pooling2d_2 (MaxPooling2 (None, 7, 7, 64)          0         \n",
      "_________________________________________________________________\n",
      "conv2d_5 (Conv2D)            (None, 7, 7, 128)         73856     \n",
      "_________________________________________________________________\n",
      "batch_normalization_5 (Batch (None, 7, 7, 128)         512       \n",
      "_________________________________________________________________\n",
      "conv2d_6 (Conv2D)            (None, 7, 7, 128)         147584    \n",
      "_________________________________________________________________\n",
      "batch_normalization_6 (Batch (None, 7, 7, 128)         512       \n",
      "_________________________________________________________________\n",
      "conv2d_7 (Conv2D)            (None, 7, 7, 256)         295168    \n",
      "_________________________________________________________________\n",
      "batch_normalization_7 (Batch (None, 7, 7, 256)         1024      \n",
      "_________________________________________________________________\n",
      "conv2d_8 (Conv2D)            (None, 7, 7, 256)         590080    \n",
      "_________________________________________________________________\n",
      "batch_normalization_8 (Batch (None, 7, 7, 256)         1024      \n",
      "_________________________________________________________________\n",
      "conv2d_9 (Conv2D)            (None, 7, 7, 128)         295040    \n",
      "_________________________________________________________________\n",
      "batch_normalization_9 (Batch (None, 7, 7, 128)         512       \n",
      "_________________________________________________________________\n",
      "conv2d_10 (Conv2D)           (None, 7, 7, 128)         147584    \n",
      "_________________________________________________________________\n",
      "batch_normalization_10 (Batc (None, 7, 7, 128)         512       \n",
      "_________________________________________________________________\n",
      "conv2d_11 (Conv2D)           (None, 7, 7, 64)          73792     \n",
      "_________________________________________________________________\n",
      "batch_normalization_11 (Batc (None, 7, 7, 64)          256       \n",
      "_________________________________________________________________\n",
      "conv2d_12 (Conv2D)           (None, 7, 7, 64)          36928     \n",
      "_________________________________________________________________\n",
      "batch_normalization_12 (Batc (None, 7, 7, 64)          256       \n",
      "_________________________________________________________________\n",
      "up_sampling2d_1 (UpSampling2 (None, 14, 14, 64)        0         \n",
      "_________________________________________________________________\n",
      "conv2d_13 (Conv2D)           (None, 14, 14, 32)        18464     \n",
      "_________________________________________________________________\n",
      "batch_normalization_13 (Batc (None, 14, 14, 32)        128       \n",
      "_________________________________________________________________\n",
      "conv2d_14 (Conv2D)           (None, 14, 14, 32)        9248      \n",
      "_________________________________________________________________\n",
      "batch_normalization_14 (Batc (None, 14, 14, 32)        128       \n",
      "_________________________________________________________________\n",
      "up_sampling2d_2 (UpSampling2 (None, 28, 28, 32)        0         \n",
      "_________________________________________________________________\n",
      "conv2d_15 (Conv2D)           (None, 28, 28, 1)         289       \n",
      "=================================================================\n",
      "Total params: 1,758,657\n",
      "Trainable params: 1,755,841\n",
      "Non-trainable params: 2,816\n",
      "_________________________________________________________________\n"
     ]
    }
   ],
   "source": [
    "# Let us see the autoencoder summary\n",
    "autoencoder.summary()"
   ]
  },
  {
   "cell_type": "markdown",
   "metadata": {},
   "source": [
    "### Training the model "
   ]
  },
  {
   "cell_type": "code",
   "execution_count": 23,
   "metadata": {},
   "outputs": [
    {
     "name": "stdout",
     "output_type": "stream",
     "text": [
      "Train on 48000 samples, validate on 12000 samples\n",
      "Epoch 1/200\n",
      "48000/48000 [==============================] - 11s 227us/step - loss: 0.0264 - val_loss: 0.0457\n",
      "Epoch 2/200\n",
      "48000/48000 [==============================] - 9s 196us/step - loss: 0.0111 - val_loss: 0.0221\n",
      "Epoch 3/200\n",
      "48000/48000 [==============================] - 9s 197us/step - loss: 0.0084 - val_loss: 0.0101\n",
      "Epoch 4/200\n",
      "48000/48000 [==============================] - 9s 197us/step - loss: 0.0070 - val_loss: 0.0077\n",
      "Epoch 5/200\n",
      "48000/48000 [==============================] - 9s 197us/step - loss: 0.0062 - val_loss: 0.0071\n",
      "Epoch 6/200\n",
      "48000/48000 [==============================] - 9s 197us/step - loss: 0.0058 - val_loss: 0.0104\n",
      "Epoch 7/200\n",
      "48000/48000 [==============================] - 10s 198us/step - loss: 0.0051 - val_loss: 0.0054\n",
      "Epoch 8/200\n",
      "48000/48000 [==============================] - 10s 199us/step - loss: 0.0045 - val_loss: 0.0051\n",
      "Epoch 9/200\n",
      "48000/48000 [==============================] - 10s 199us/step - loss: 0.0041 - val_loss: 0.0051\n",
      "Epoch 10/200\n",
      "48000/48000 [==============================] - 10s 199us/step - loss: 0.0039 - val_loss: 0.0036\n",
      "Epoch 11/200\n",
      "48000/48000 [==============================] - 10s 199us/step - loss: 0.0036 - val_loss: 0.0040\n",
      "Epoch 12/200\n",
      "48000/48000 [==============================] - 10s 199us/step - loss: 0.0034 - val_loss: 0.0036\n",
      "Epoch 13/200\n",
      "48000/48000 [==============================] - 10s 199us/step - loss: 0.0032 - val_loss: 0.0036\n",
      "Epoch 14/200\n",
      "48000/48000 [==============================] - 10s 199us/step - loss: 0.0031 - val_loss: 0.0030\n",
      "Epoch 15/200\n",
      "48000/48000 [==============================] - 10s 199us/step - loss: 0.0030 - val_loss: 0.0033\n",
      "Epoch 16/200\n",
      "48000/48000 [==============================] - 10s 199us/step - loss: 0.0029 - val_loss: 0.0030\n",
      "Epoch 17/200\n",
      "48000/48000 [==============================] - 10s 199us/step - loss: 0.0028 - val_loss: 0.0028\n",
      "Epoch 18/200\n",
      "48000/48000 [==============================] - 10s 199us/step - loss: 0.0027 - val_loss: 0.0024\n",
      "Epoch 19/200\n",
      "48000/48000 [==============================] - 10s 199us/step - loss: 0.0026 - val_loss: 0.0045\n",
      "Epoch 20/200\n",
      "48000/48000 [==============================] - 10s 199us/step - loss: 0.0026 - val_loss: 0.0028\n",
      "Epoch 21/200\n",
      "48000/48000 [==============================] - 10s 199us/step - loss: 0.0025 - val_loss: 0.0028\n",
      "Epoch 22/200\n",
      "48000/48000 [==============================] - 10s 199us/step - loss: 0.0024 - val_loss: 0.0023\n",
      "Epoch 23/200\n",
      "48000/48000 [==============================] - 10s 199us/step - loss: 0.0023 - val_loss: 0.0030\n",
      "Epoch 24/200\n",
      "48000/48000 [==============================] - 10s 199us/step - loss: 0.0023 - val_loss: 0.0025\n",
      "Epoch 25/200\n",
      "48000/48000 [==============================] - 10s 199us/step - loss: 0.0023 - val_loss: 0.0022\n",
      "Epoch 26/200\n",
      "48000/48000 [==============================] - 10s 199us/step - loss: 0.0022 - val_loss: 0.0026\n",
      "Epoch 27/200\n",
      "48000/48000 [==============================] - 10s 199us/step - loss: 0.0021 - val_loss: 0.0024\n",
      "Epoch 28/200\n",
      "48000/48000 [==============================] - 10s 199us/step - loss: 0.0021 - val_loss: 0.0023\n",
      "Epoch 29/200\n",
      "48000/48000 [==============================] - 10s 199us/step - loss: 0.0021 - val_loss: 0.0023\n",
      "Epoch 30/200\n",
      "48000/48000 [==============================] - 10s 199us/step - loss: 0.0021 - val_loss: 0.0021\n",
      "Epoch 31/200\n",
      "48000/48000 [==============================] - 10s 199us/step - loss: 0.0020 - val_loss: 0.0023\n",
      "Epoch 32/200\n",
      "48000/48000 [==============================] - 10s 199us/step - loss: 0.0020 - val_loss: 0.0019\n",
      "Epoch 33/200\n",
      "48000/48000 [==============================] - 10s 199us/step - loss: 0.0019 - val_loss: 0.0023\n",
      "Epoch 34/200\n",
      "48000/48000 [==============================] - 10s 199us/step - loss: 0.0019 - val_loss: 0.0020\n",
      "Epoch 35/200\n",
      "48000/48000 [==============================] - 10s 199us/step - loss: 0.0019 - val_loss: 0.0019\n",
      "Epoch 36/200\n",
      "48000/48000 [==============================] - 10s 200us/step - loss: 0.0019 - val_loss: 0.0024\n",
      "Epoch 37/200\n",
      "48000/48000 [==============================] - 10s 199us/step - loss: 0.0018 - val_loss: 0.0018\n",
      "Epoch 38/200\n",
      "48000/48000 [==============================] - 10s 199us/step - loss: 0.0018 - val_loss: 0.0029\n",
      "Epoch 39/200\n",
      "48000/48000 [==============================] - 10s 199us/step - loss: 0.0018 - val_loss: 0.0023\n",
      "Epoch 40/200\n",
      "48000/48000 [==============================] - 10s 199us/step - loss: 0.0017 - val_loss: 0.0016\n",
      "Epoch 41/200\n",
      "48000/48000 [==============================] - 10s 199us/step - loss: 0.0017 - val_loss: 0.0019\n",
      "Epoch 42/200\n",
      "48000/48000 [==============================] - 10s 199us/step - loss: 0.0017 - val_loss: 0.0020\n",
      "Epoch 43/200\n",
      "48000/48000 [==============================] - 10s 199us/step - loss: 0.0017 - val_loss: 0.0019\n",
      "Epoch 44/200\n",
      "48000/48000 [==============================] - 10s 199us/step - loss: 0.0017 - val_loss: 0.0017\n",
      "Epoch 45/200\n",
      "48000/48000 [==============================] - 10s 199us/step - loss: 0.0017 - val_loss: 0.0017\n",
      "Epoch 46/200\n",
      "48000/48000 [==============================] - 10s 199us/step - loss: 0.0016 - val_loss: 0.0018\n",
      "Epoch 47/200\n",
      "48000/48000 [==============================] - 10s 199us/step - loss: 0.0016 - val_loss: 0.0017\n",
      "Epoch 48/200\n",
      "48000/48000 [==============================] - 10s 199us/step - loss: 0.0016 - val_loss: 0.0016\n",
      "Epoch 49/200\n",
      "48000/48000 [==============================] - 10s 199us/step - loss: 0.0016 - val_loss: 0.0020\n",
      "Epoch 50/200\n",
      "48000/48000 [==============================] - 10s 199us/step - loss: 0.0016 - val_loss: 0.0016\n",
      "Epoch 51/200\n",
      "48000/48000 [==============================] - 10s 199us/step - loss: 0.0016 - val_loss: 0.0015\n",
      "Epoch 52/200\n",
      "48000/48000 [==============================] - 10s 199us/step - loss: 0.0015 - val_loss: 0.0019\n",
      "Epoch 53/200\n",
      "48000/48000 [==============================] - 10s 199us/step - loss: 0.0015 - val_loss: 0.0017\n",
      "Epoch 54/200\n",
      "48000/48000 [==============================] - 10s 199us/step - loss: 0.0015 - val_loss: 0.0016\n",
      "Epoch 55/200\n",
      "48000/48000 [==============================] - 10s 199us/step - loss: 0.0015 - val_loss: 0.0016\n",
      "Epoch 56/200\n",
      "48000/48000 [==============================] - 10s 199us/step - loss: 0.0015 - val_loss: 0.0018\n",
      "Epoch 57/200\n",
      "48000/48000 [==============================] - 10s 199us/step - loss: 0.0015 - val_loss: 0.0017\n",
      "Epoch 58/200\n",
      "48000/48000 [==============================] - 10s 199us/step - loss: 0.0014 - val_loss: 0.0015\n",
      "Epoch 59/200\n",
      "48000/48000 [==============================] - 10s 199us/step - loss: 0.0014 - val_loss: 0.0014\n",
      "Epoch 60/200\n",
      "48000/48000 [==============================] - 10s 199us/step - loss: 0.0014 - val_loss: 0.0015\n",
      "Epoch 61/200\n",
      "48000/48000 [==============================] - 10s 199us/step - loss: 0.0014 - val_loss: 0.0015\n",
      "Epoch 62/200\n",
      "48000/48000 [==============================] - 10s 199us/step - loss: 0.0014 - val_loss: 0.0016\n",
      "Epoch 63/200\n",
      "48000/48000 [==============================] - 10s 199us/step - loss: 0.0014 - val_loss: 0.0014\n",
      "Epoch 64/200\n",
      "48000/48000 [==============================] - 10s 199us/step - loss: 0.0014 - val_loss: 0.0014\n",
      "Epoch 65/200\n",
      "48000/48000 [==============================] - 10s 199us/step - loss: 0.0014 - val_loss: 0.0018\n",
      "Epoch 66/200\n",
      "48000/48000 [==============================] - 10s 199us/step - loss: 0.0014 - val_loss: 0.0017\n",
      "Epoch 67/200\n",
      "48000/48000 [==============================] - 10s 199us/step - loss: 0.0013 - val_loss: 0.0016\n",
      "Epoch 68/200\n",
      "48000/48000 [==============================] - 10s 198us/step - loss: 0.0013 - val_loss: 0.0015\n",
      "Epoch 69/200\n",
      "48000/48000 [==============================] - 10s 198us/step - loss: 0.0013 - val_loss: 0.0016\n",
      "Epoch 70/200\n",
      "48000/48000 [==============================] - 9s 198us/step - loss: 0.0013 - val_loss: 0.0013\n",
      "Epoch 71/200\n",
      "48000/48000 [==============================] - 10s 199us/step - loss: 0.0013 - val_loss: 0.0017\n",
      "Epoch 72/200\n",
      "48000/48000 [==============================] - 10s 198us/step - loss: 0.0013 - val_loss: 0.0014\n",
      "Epoch 73/200\n",
      "48000/48000 [==============================] - 10s 199us/step - loss: 0.0013 - val_loss: 0.0014\n",
      "Epoch 74/200\n",
      "48000/48000 [==============================] - 10s 199us/step - loss: 0.0013 - val_loss: 0.0013\n",
      "Epoch 75/200\n",
      "48000/48000 [==============================] - 10s 199us/step - loss: 0.0013 - val_loss: 0.0014\n"
     ]
    },
    {
     "name": "stdout",
     "output_type": "stream",
     "text": [
      "Epoch 76/200\n",
      "48000/48000 [==============================] - 10s 199us/step - loss: 0.0013 - val_loss: 0.0018\n",
      "Epoch 77/200\n",
      "48000/48000 [==============================] - 10s 200us/step - loss: 0.0013 - val_loss: 0.0013\n",
      "Epoch 78/200\n",
      "48000/48000 [==============================] - 10s 199us/step - loss: 0.0013 - val_loss: 0.0015\n",
      "Epoch 79/200\n",
      "48000/48000 [==============================] - 10s 199us/step - loss: 0.0012 - val_loss: 0.0013\n",
      "Epoch 80/200\n",
      "48000/48000 [==============================] - 10s 200us/step - loss: 0.0012 - val_loss: 0.0013\n",
      "Epoch 81/200\n",
      "48000/48000 [==============================] - 10s 200us/step - loss: 0.0012 - val_loss: 0.0012\n",
      "Epoch 82/200\n",
      "48000/48000 [==============================] - 10s 200us/step - loss: 0.0012 - val_loss: 0.0014\n",
      "Epoch 83/200\n",
      "48000/48000 [==============================] - 10s 200us/step - loss: 0.0012 - val_loss: 0.0013\n",
      "Epoch 84/200\n",
      "48000/48000 [==============================] - 10s 199us/step - loss: 0.0012 - val_loss: 0.0013\n",
      "Epoch 85/200\n",
      "48000/48000 [==============================] - 10s 199us/step - loss: 0.0012 - val_loss: 0.0015\n",
      "Epoch 86/200\n",
      "48000/48000 [==============================] - 10s 199us/step - loss: 0.0012 - val_loss: 0.0012\n",
      "Epoch 87/200\n",
      "48000/48000 [==============================] - 10s 199us/step - loss: 0.0012 - val_loss: 0.0015\n",
      "Epoch 88/200\n",
      "48000/48000 [==============================] - 10s 199us/step - loss: 0.0012 - val_loss: 0.0013\n",
      "Epoch 89/200\n",
      "48000/48000 [==============================] - 10s 199us/step - loss: 0.0012 - val_loss: 0.0014\n",
      "Epoch 90/200\n",
      "48000/48000 [==============================] - 10s 199us/step - loss: 0.0012 - val_loss: 0.0015\n",
      "Epoch 91/200\n",
      "48000/48000 [==============================] - 10s 200us/step - loss: 0.0012 - val_loss: 0.0014\n",
      "Epoch 92/200\n",
      "48000/48000 [==============================] - 10s 200us/step - loss: 0.0012 - val_loss: 0.0013\n",
      "Epoch 93/200\n",
      "48000/48000 [==============================] - 10s 200us/step - loss: 0.0011 - val_loss: 0.0013\n",
      "Epoch 94/200\n",
      "48000/48000 [==============================] - 10s 199us/step - loss: 0.0011 - val_loss: 0.0013\n",
      "Epoch 95/200\n",
      "48000/48000 [==============================] - 10s 199us/step - loss: 0.0011 - val_loss: 0.0021\n",
      "Epoch 96/200\n",
      "48000/48000 [==============================] - 10s 199us/step - loss: 0.0011 - val_loss: 0.0012\n",
      "Epoch 97/200\n",
      "48000/48000 [==============================] - 10s 199us/step - loss: 0.0011 - val_loss: 0.0012\n",
      "Epoch 98/200\n",
      "48000/48000 [==============================] - 10s 200us/step - loss: 0.0011 - val_loss: 0.0014\n",
      "Epoch 99/200\n",
      "48000/48000 [==============================] - 10s 200us/step - loss: 0.0011 - val_loss: 0.0012\n",
      "Epoch 100/200\n",
      "48000/48000 [==============================] - 10s 200us/step - loss: 0.0011 - val_loss: 0.0012\n",
      "Epoch 101/200\n",
      "48000/48000 [==============================] - 10s 199us/step - loss: 0.0011 - val_loss: 0.0012\n",
      "Epoch 102/200\n",
      "48000/48000 [==============================] - 10s 199us/step - loss: 0.0011 - val_loss: 0.0012\n",
      "Epoch 103/200\n",
      "48000/48000 [==============================] - 10s 199us/step - loss: 0.0011 - val_loss: 0.0015\n",
      "Epoch 104/200\n",
      "48000/48000 [==============================] - 10s 199us/step - loss: 0.0011 - val_loss: 0.0012\n",
      "Epoch 105/200\n",
      "48000/48000 [==============================] - 10s 199us/step - loss: 0.0011 - val_loss: 0.0015\n",
      "Epoch 106/200\n",
      "48000/48000 [==============================] - 10s 199us/step - loss: 0.0011 - val_loss: 0.0012\n",
      "Epoch 107/200\n",
      "48000/48000 [==============================] - 10s 199us/step - loss: 0.0011 - val_loss: 0.0013\n",
      "Epoch 108/200\n",
      "48000/48000 [==============================] - 10s 200us/step - loss: 0.0011 - val_loss: 0.0012\n",
      "Epoch 109/200\n",
      "48000/48000 [==============================] - 10s 200us/step - loss: 0.0011 - val_loss: 0.0013\n",
      "Epoch 110/200\n",
      "48000/48000 [==============================] - 10s 200us/step - loss: 0.0011 - val_loss: 0.0012\n",
      "Epoch 111/200\n",
      "48000/48000 [==============================] - 10s 200us/step - loss: 0.0010 - val_loss: 0.0011\n",
      "Epoch 112/200\n",
      "48000/48000 [==============================] - 10s 200us/step - loss: 0.0010 - val_loss: 0.0012\n",
      "Epoch 113/200\n",
      "48000/48000 [==============================] - 10s 200us/step - loss: 0.0010 - val_loss: 0.0012\n",
      "Epoch 114/200\n",
      "48000/48000 [==============================] - 10s 200us/step - loss: 0.0010 - val_loss: 0.0013\n",
      "Epoch 115/200\n",
      "48000/48000 [==============================] - 10s 200us/step - loss: 0.0010 - val_loss: 0.0011\n",
      "Epoch 116/200\n",
      "48000/48000 [==============================] - 10s 200us/step - loss: 0.0010 - val_loss: 0.0012\n",
      "Epoch 117/200\n",
      "48000/48000 [==============================] - 10s 200us/step - loss: 0.0010 - val_loss: 0.0015\n",
      "Epoch 118/200\n",
      "48000/48000 [==============================] - 10s 200us/step - loss: 0.0010 - val_loss: 0.0011\n",
      "Epoch 119/200\n",
      "48000/48000 [==============================] - 10s 200us/step - loss: 0.0010 - val_loss: 0.0011\n",
      "Epoch 120/200\n",
      "48000/48000 [==============================] - 10s 200us/step - loss: 0.0010 - val_loss: 0.0012\n",
      "Epoch 121/200\n",
      "48000/48000 [==============================] - 10s 200us/step - loss: 0.0010 - val_loss: 0.0012\n",
      "Epoch 122/200\n",
      "48000/48000 [==============================] - 10s 200us/step - loss: 0.0010 - val_loss: 0.0013\n",
      "Epoch 123/200\n",
      "48000/48000 [==============================] - 10s 200us/step - loss: 9.9999e-04 - val_loss: 0.0011\n",
      "Epoch 124/200\n",
      "48000/48000 [==============================] - 10s 200us/step - loss: 9.9639e-04 - val_loss: 0.0011\n",
      "Epoch 125/200\n",
      "48000/48000 [==============================] - 10s 200us/step - loss: 9.9016e-04 - val_loss: 0.0011\n",
      "Epoch 126/200\n",
      "48000/48000 [==============================] - 10s 200us/step - loss: 9.9421e-04 - val_loss: 0.0012\n",
      "Epoch 127/200\n",
      "48000/48000 [==============================] - 10s 200us/step - loss: 9.7994e-04 - val_loss: 0.0011\n",
      "Epoch 128/200\n",
      "48000/48000 [==============================] - 10s 200us/step - loss: 9.7226e-04 - val_loss: 0.0011\n",
      "Epoch 129/200\n",
      "48000/48000 [==============================] - 10s 200us/step - loss: 9.7160e-04 - val_loss: 0.0012\n",
      "Epoch 130/200\n",
      "48000/48000 [==============================] - 10s 199us/step - loss: 9.6938e-04 - val_loss: 0.0011\n",
      "Epoch 131/200\n",
      "48000/48000 [==============================] - 10s 199us/step - loss: 9.6925e-04 - val_loss: 0.0011\n",
      "Epoch 132/200\n",
      "48000/48000 [==============================] - 10s 199us/step - loss: 9.5569e-04 - val_loss: 0.0011\n",
      "Epoch 133/200\n",
      "48000/48000 [==============================] - 10s 199us/step - loss: 9.6097e-04 - val_loss: 0.0012\n",
      "Epoch 134/200\n",
      "48000/48000 [==============================] - 10s 199us/step - loss: 9.5917e-04 - val_loss: 0.0011\n",
      "Epoch 135/200\n",
      "48000/48000 [==============================] - 10s 199us/step - loss: 9.5380e-04 - val_loss: 0.0011\n",
      "Epoch 136/200\n",
      "48000/48000 [==============================] - 10s 199us/step - loss: 9.5319e-04 - val_loss: 0.0012\n",
      "Epoch 137/200\n",
      "48000/48000 [==============================] - 10s 199us/step - loss: 9.4862e-04 - val_loss: 0.0011\n",
      "Epoch 138/200\n",
      "48000/48000 [==============================] - 10s 199us/step - loss: 9.4575e-04 - val_loss: 0.0011\n",
      "Epoch 139/200\n",
      "48000/48000 [==============================] - 10s 199us/step - loss: 9.4296e-04 - val_loss: 0.0013\n",
      "Epoch 140/200\n",
      "48000/48000 [==============================] - 10s 200us/step - loss: 9.3923e-04 - val_loss: 0.0011\n",
      "Epoch 141/200\n",
      "48000/48000 [==============================] - 10s 199us/step - loss: 9.2895e-04 - val_loss: 0.0014\n",
      "Epoch 142/200\n",
      "48000/48000 [==============================] - 10s 199us/step - loss: 9.3119e-04 - val_loss: 0.0012\n",
      "Epoch 143/200\n",
      "48000/48000 [==============================] - 10s 199us/step - loss: 9.2170e-04 - val_loss: 0.0012\n",
      "Epoch 144/200\n",
      "48000/48000 [==============================] - 10s 199us/step - loss: 9.2611e-04 - val_loss: 0.0014\n",
      "Epoch 145/200\n",
      "48000/48000 [==============================] - 10s 199us/step - loss: 9.1583e-04 - val_loss: 0.0011\n",
      "Epoch 146/200\n",
      "48000/48000 [==============================] - 10s 199us/step - loss: 9.1227e-04 - val_loss: 0.0012\n",
      "Epoch 147/200\n",
      "48000/48000 [==============================] - 10s 199us/step - loss: 9.2262e-04 - val_loss: 0.0011\n",
      "Epoch 148/200\n",
      "48000/48000 [==============================] - 10s 199us/step - loss: 9.1036e-04 - val_loss: 0.0011\n",
      "Epoch 149/200\n"
     ]
    },
    {
     "name": "stdout",
     "output_type": "stream",
     "text": [
      "48000/48000 [==============================] - 10s 199us/step - loss: 9.1014e-04 - val_loss: 0.0011\n",
      "Epoch 150/200\n",
      "48000/48000 [==============================] - 10s 199us/step - loss: 9.1767e-04 - val_loss: 0.0011\n",
      "Epoch 151/200\n",
      "48000/48000 [==============================] - 10s 199us/step - loss: 9.0573e-04 - val_loss: 0.0011\n",
      "Epoch 152/200\n",
      "48000/48000 [==============================] - 10s 199us/step - loss: 9.0388e-04 - val_loss: 0.0010\n",
      "Epoch 153/200\n",
      "48000/48000 [==============================] - 10s 199us/step - loss: 8.9637e-04 - val_loss: 0.0011\n",
      "Epoch 154/200\n",
      "48000/48000 [==============================] - 10s 199us/step - loss: 8.9497e-04 - val_loss: 0.0011\n",
      "Epoch 155/200\n",
      "48000/48000 [==============================] - 10s 199us/step - loss: 8.9222e-04 - val_loss: 0.0011\n",
      "Epoch 156/200\n",
      "48000/48000 [==============================] - 10s 199us/step - loss: 8.9232e-04 - val_loss: 0.0011\n",
      "Epoch 157/200\n",
      "48000/48000 [==============================] - 10s 199us/step - loss: 8.8786e-04 - val_loss: 0.0010\n",
      "Epoch 158/200\n",
      "48000/48000 [==============================] - 10s 199us/step - loss: 8.8429e-04 - val_loss: 0.0010\n",
      "Epoch 159/200\n",
      "48000/48000 [==============================] - 10s 199us/step - loss: 8.7985e-04 - val_loss: 0.0010\n",
      "Epoch 160/200\n",
      "48000/48000 [==============================] - 10s 199us/step - loss: 8.8443e-04 - val_loss: 0.0011\n",
      "Epoch 161/200\n",
      "48000/48000 [==============================] - 10s 199us/step - loss: 8.8219e-04 - val_loss: 0.0011\n",
      "Epoch 162/200\n",
      "48000/48000 [==============================] - 10s 199us/step - loss: 8.7491e-04 - val_loss: 0.0011\n",
      "Epoch 163/200\n",
      "48000/48000 [==============================] - 10s 199us/step - loss: 8.7846e-04 - val_loss: 0.0011\n",
      "Epoch 164/200\n",
      "48000/48000 [==============================] - 10s 200us/step - loss: 8.6518e-04 - val_loss: 0.0011\n",
      "Epoch 165/200\n",
      "48000/48000 [==============================] - 10s 200us/step - loss: 8.6564e-04 - val_loss: 0.0010\n",
      "Epoch 166/200\n",
      "48000/48000 [==============================] - 10s 199us/step - loss: 8.6763e-04 - val_loss: 0.0010\n",
      "Epoch 167/200\n",
      "48000/48000 [==============================] - 10s 200us/step - loss: 8.6561e-04 - val_loss: 0.0011\n",
      "Epoch 168/200\n",
      "48000/48000 [==============================] - 10s 200us/step - loss: 8.6143e-04 - val_loss: 9.9077e-04\n",
      "Epoch 169/200\n",
      "48000/48000 [==============================] - 10s 200us/step - loss: 8.5907e-04 - val_loss: 0.0010\n",
      "Epoch 170/200\n",
      "48000/48000 [==============================] - 10s 200us/step - loss: 8.5629e-04 - val_loss: 0.0011\n",
      "Epoch 171/200\n",
      "48000/48000 [==============================] - 10s 200us/step - loss: 8.5799e-04 - val_loss: 0.0010\n",
      "Epoch 172/200\n",
      "48000/48000 [==============================] - 10s 200us/step - loss: 8.5245e-04 - val_loss: 0.0012\n",
      "Epoch 173/200\n",
      "48000/48000 [==============================] - 10s 200us/step - loss: 8.5089e-04 - val_loss: 0.0010\n",
      "Epoch 174/200\n",
      "48000/48000 [==============================] - 10s 200us/step - loss: 8.4762e-04 - val_loss: 0.0011\n",
      "Epoch 175/200\n",
      "48000/48000 [==============================] - 10s 199us/step - loss: 8.4643e-04 - val_loss: 0.0010\n",
      "Epoch 176/200\n",
      "48000/48000 [==============================] - 10s 199us/step - loss: 8.4362e-04 - val_loss: 0.0011\n",
      "Epoch 177/200\n",
      "48000/48000 [==============================] - 10s 199us/step - loss: 8.4522e-04 - val_loss: 0.0011\n",
      "Epoch 178/200\n",
      "48000/48000 [==============================] - 10s 199us/step - loss: 8.4771e-04 - val_loss: 0.0010\n",
      "Epoch 179/200\n",
      "48000/48000 [==============================] - 10s 199us/step - loss: 8.3505e-04 - val_loss: 0.0011\n",
      "Epoch 180/200\n",
      "48000/48000 [==============================] - 10s 199us/step - loss: 8.3634e-04 - val_loss: 0.0011\n",
      "Epoch 181/200\n",
      "48000/48000 [==============================] - 10s 199us/step - loss: 8.3524e-04 - val_loss: 0.0011\n",
      "Epoch 182/200\n",
      "48000/48000 [==============================] - 10s 199us/step - loss: 8.3632e-04 - val_loss: 0.0010\n",
      "Epoch 183/200\n",
      "48000/48000 [==============================] - 10s 200us/step - loss: 8.3004e-04 - val_loss: 0.0011\n",
      "Epoch 184/200\n",
      "48000/48000 [==============================] - 10s 200us/step - loss: 8.2821e-04 - val_loss: 0.0011\n",
      "Epoch 185/200\n",
      "48000/48000 [==============================] - 10s 200us/step - loss: 8.2451e-04 - val_loss: 0.0011\n",
      "Epoch 186/200\n",
      "48000/48000 [==============================] - 10s 200us/step - loss: 8.2318e-04 - val_loss: 0.0011\n",
      "Epoch 187/200\n",
      "48000/48000 [==============================] - 10s 199us/step - loss: 8.2462e-04 - val_loss: 0.0010\n",
      "Epoch 188/200\n",
      "48000/48000 [==============================] - 10s 199us/step - loss: 8.1728e-04 - val_loss: 0.0010\n",
      "Epoch 189/200\n",
      "48000/48000 [==============================] - 10s 199us/step - loss: 8.1606e-04 - val_loss: 0.0010\n",
      "Epoch 190/200\n",
      "48000/48000 [==============================] - 10s 199us/step - loss: 8.2615e-04 - val_loss: 0.0011\n",
      "Epoch 191/200\n",
      "48000/48000 [==============================] - 10s 199us/step - loss: 8.2301e-04 - val_loss: 0.0011\n",
      "Epoch 192/200\n",
      "48000/48000 [==============================] - 10s 199us/step - loss: 8.1235e-04 - val_loss: 9.9467e-04\n",
      "Epoch 193/200\n",
      "48000/48000 [==============================] - 10s 199us/step - loss: 8.0882e-04 - val_loss: 0.0010\n",
      "Epoch 194/200\n",
      "48000/48000 [==============================] - 10s 200us/step - loss: 8.0533e-04 - val_loss: 0.0010\n",
      "Epoch 195/200\n",
      "48000/48000 [==============================] - 10s 200us/step - loss: 8.1214e-04 - val_loss: 0.0011\n",
      "Epoch 196/200\n",
      "48000/48000 [==============================] - 10s 200us/step - loss: 8.0601e-04 - val_loss: 0.0012\n",
      "Epoch 197/200\n",
      "48000/48000 [==============================] - 10s 199us/step - loss: 8.0654e-04 - val_loss: 9.6515e-04\n",
      "Epoch 198/200\n",
      "48000/48000 [==============================] - 10s 199us/step - loss: 8.0266e-04 - val_loss: 0.0011\n",
      "Epoch 199/200\n",
      "48000/48000 [==============================] - 10s 199us/step - loss: 7.9812e-04 - val_loss: 0.0011\n",
      "Epoch 200/200\n",
      "48000/48000 [==============================] - 10s 199us/step - loss: 7.9890e-04 - val_loss: 0.0011\n"
     ]
    }
   ],
   "source": [
    "# we will now train the autoencoder for 200 epochs using keras fit function\n",
    "# We are going to save the history to plot accuracy and loss curves to help in analyzing the model performance.\n",
    "csv_logger = CSVLogger('autoencoder_log.csv', append = True, separator = ';')\n",
    "history = autoencoder.fit(X_train, y_train, batch_size = batch_size, epochs= epochs,\n",
    "                                   verbose =1, validation_data = (X_val, y_val), callbacks = [csv_logger])"
   ]
  },
  {
   "cell_type": "code",
   "execution_count": 24,
   "metadata": {},
   "outputs": [],
   "source": [
    "# saving the model\n",
    "autoencoder_json = autoencoder.to_json()\n",
    "with open('autoencoder_json','w') as json_file:\n",
    "    json_file.write(autoencoder_json)"
   ]
  },
  {
   "cell_type": "code",
   "execution_count": 25,
   "metadata": {},
   "outputs": [
    {
     "name": "stdout",
     "output_type": "stream",
     "text": [
      "dict_keys(['val_loss', 'loss'])\n"
     ]
    },
    {
     "data": {
      "image/png": "[encoded data removed]",
      "text/plain": [
       "<matplotlib.figure.Figure at 0x7f8dd41348d0>"
      ]
     },
     "metadata": {},
     "output_type": "display_data"
    }
   ],
   "source": [
    "# Now we can plot the loss curves to visualize the model performance\n",
    "# list all data in history\n",
    "print(history.history.keys())\n",
    "\n",
    "\n",
    "# summarize history for loss\n",
    "plt.plot(history.history['loss'])\n",
    "plt.plot(history.history['val_loss'])\n",
    "plt.title('model loss')\n",
    "plt.ylabel('loss')\n",
    "plt.xlabel('epoch')\n",
    "plt.legend(['train', 'validation'], loc='upper right')\n",
    "plt.show()"
   ]
  },
  {
   "cell_type": "markdown",
   "metadata": {},
   "source": [
    "We can clearly see that the training and validation loss are in sync. The validation loss is decreasing which is a good sign which also mean that model is not overfitting. So, we can say the model's generalization capabity is good.\n",
    "\n",
    "Now, we will use the encoder part of the autoencoder to classify the fashion MNIST images."
   ]
  },
  {
   "cell_type": "code",
   "execution_count": 26,
   "metadata": {},
   "outputs": [],
   "source": [
    "# We will need the encoder weights of the autoencoder for classification task. We will now save the \n",
    "# full autoencoder weights and then we will learn to extract the encoder weights.\n",
    "autoencoder.save_weights('autoencoder_weights.h5')"
   ]
  },
  {
   "cell_type": "markdown",
   "metadata": {},
   "source": [
    "### Classifying the fashion MNIST images"
   ]
  },
  {
   "cell_type": "markdown",
   "metadata": {},
   "source": [
    "- Loading the encoder weights from the trained autoencoder's weight\n",
    "- We will add a few fully connected (dense) layers to the encoder to classify the fashion MNIST images.\n",
    "- We will convert labels into one-hot encoding vectors. In one-hot encoding, we convert the categorical values to\n",
    "    a vector of numbers as machine learning algorithms cannot work with understand categorical data directly.\n",
    "- So, in our case the one hot encoding will be a row vector and for each image it will have a dimension of 1 X 10.\n",
    "- The vector consists of all zeros except for the class that it represents, and for that, it is 1.\n"
   ]
  },
  {
   "cell_type": "code",
   "execution_count": 27,
   "metadata": {},
   "outputs": [
    {
     "name": "stdout",
     "output_type": "stream",
     "text": [
      "Original label: 9\n",
      "One-hot label: [0. 0. 0. 0. 0. 0. 0. 0. 0. 1.]\n"
     ]
    }
   ],
   "source": [
    "X_train_one_hot = to_categorical(train_labels)\n",
    "X_test_one_hot = to_categorical(test_labels)\n",
    "\n",
    "# Display the change for category label using one-hot encoding\n",
    "print('Original label:', train_labels[0])\n",
    "print('One-hot label:', X_train_one_hot[0])"
   ]
  },
  {
   "cell_type": "code",
   "execution_count": 28,
   "metadata": {},
   "outputs": [],
   "source": [
    "# Splitting the data again into train and test for classification purpose using the one hot labels this time\n",
    "X_trainc, X_valc, y_trainc, y_valc = train_test_split(train_data, X_train_one_hot, test_size = 0.2, random_state = 12345)"
   ]
  },
  {
   "cell_type": "code",
   "execution_count": 29,
   "metadata": {},
   "outputs": [
    {
     "data": {
      "text/plain": [
       "((48000, 28, 28, 1), (12000, 28, 28, 1), (48000, 10), (12000, 10))"
      ]
     },
     "execution_count": 29,
     "metadata": {},
     "output_type": "execute_result"
    }
   ],
   "source": [
    "# checking the shape\n",
    "X_trainc.shape, X_valc.shape, y_trainc.shape, y_valc.shape"
   ]
  },
  {
   "cell_type": "code",
   "execution_count": 30,
   "metadata": {},
   "outputs": [],
   "source": [
    "# Now we will be using building the classification model using the encoder part (define encoder) of the autoencoder\n",
    "# defining the fully connected layer for the encoder part\n",
    "def fc(enco):\n",
    "    flat = Flatten() (enco)\n",
    "    fc1 = Dense(128, activation = 'relu') (flat)\n",
    "    fc2 = Dense(num_classes, activation = 'softmax') (fc1)\n",
    "    return fc2"
   ]
  },
  {
   "cell_type": "code",
   "execution_count": 31,
   "metadata": {},
   "outputs": [],
   "source": [
    "encode = encoder(input_image)\n",
    "full_model = Model(input_image, fc(encode))"
   ]
  },
  {
   "cell_type": "code",
   "execution_count": 32,
   "metadata": {},
   "outputs": [],
   "source": [
    "for l1, l2 in zip(full_model.layers[:19], autoencoder.layers[:19]):\n",
    "    l1.set_weights(l2.get_weights())"
   ]
  },
  {
   "cell_type": "code",
   "execution_count": 33,
   "metadata": {},
   "outputs": [
    {
     "data": {
      "text/plain": [
       "array([[[ 0.03484822,  0.54488236,  0.79232454, -0.43435058,\n",
       "         -0.34744975, -0.9587529 , -0.40104276,  0.12997001,\n",
       "          0.35536173,  0.2808614 ,  0.09164336,  0.18004183,\n",
       "          0.16222575, -0.18727636, -0.13956393, -0.44285783,\n",
       "          0.020556  ,  0.14557205,  0.02137145,  0.5783866 ,\n",
       "          0.25203896,  0.1850529 , -0.35790852, -0.10435557,\n",
       "          0.22306763,  0.23999791, -0.18548656,  0.07568264,\n",
       "         -0.4926539 , -0.4113123 , -0.37110335, -0.433332  ]],\n",
       "\n",
       "       [[ 0.2357364 , -0.39489555,  0.4701999 , -0.1704079 ,\n",
       "         -0.44132775,  0.01831277,  0.03301767,  0.41107908,\n",
       "          0.41745707, -0.41281393, -1.4580994 , -0.6703689 ,\n",
       "          0.15900806, -0.03025126, -0.32384643,  0.57313126,\n",
       "          0.4474571 , -0.5015263 ,  0.04522365, -0.16300884,\n",
       "          0.4344801 ,  0.7895104 , -0.20925617,  0.13910852,\n",
       "          0.09706446, -0.24407418, -0.80453765,  0.32705525,\n",
       "         -0.09608769,  0.16976206,  0.01944006, -0.09635919]],\n",
       "\n",
       "       [[-0.3616235 , -0.0912574 , -0.14394717,  0.05616005,\n",
       "         -0.42791054, -1.0513803 ,  0.38196707, -0.25973085,\n",
       "          0.22198543, -0.9439066 , -0.7405361 ,  0.27127096,\n",
       "         -0.11148115,  0.18584691, -0.16645628,  0.115528  ,\n",
       "          0.30022016,  0.52147233,  0.02483999, -0.15558524,\n",
       "          0.30153415,  0.1964361 ,  0.5217982 ,  0.43939018,\n",
       "          0.2390272 , -0.02010331, -0.30281052, -0.3867128 ,\n",
       "          0.5658195 ,  0.34132668,  0.0546862 , -0.18588355]]],\n",
       "      dtype=float32)"
      ]
     },
     "execution_count": 33,
     "metadata": {},
     "output_type": "execute_result"
    }
   ],
   "source": [
    "# Since, we are using the encoder part of the autoencoder for classification purpose, we should make sure that\n",
    "# the weights of the encoder part of the autoencoder are are similar to the weights you loaded to the \n",
    "# encoder function of the classification model. If they are not similar, there is no pointin using the autoencoder classification\n",
    "# strategy.\n",
    "\n",
    "# First layer weight of autoencoder\n",
    "autoencoder.get_weights()[0][1]"
   ]
  },
  {
   "cell_type": "code",
   "execution_count": 34,
   "metadata": {},
   "outputs": [
    {
     "data": {
      "text/plain": [
       "array([[[ 0.03484822,  0.54488236,  0.79232454, -0.43435058,\n",
       "         -0.34744975, -0.9587529 , -0.40104276,  0.12997001,\n",
       "          0.35536173,  0.2808614 ,  0.09164336,  0.18004183,\n",
       "          0.16222575, -0.18727636, -0.13956393, -0.44285783,\n",
       "          0.020556  ,  0.14557205,  0.02137145,  0.5783866 ,\n",
       "          0.25203896,  0.1850529 , -0.35790852, -0.10435557,\n",
       "          0.22306763,  0.23999791, -0.18548656,  0.07568264,\n",
       "         -0.4926539 , -0.4113123 , -0.37110335, -0.433332  ]],\n",
       "\n",
       "       [[ 0.2357364 , -0.39489555,  0.4701999 , -0.1704079 ,\n",
       "         -0.44132775,  0.01831277,  0.03301767,  0.41107908,\n",
       "          0.41745707, -0.41281393, -1.4580994 , -0.6703689 ,\n",
       "          0.15900806, -0.03025126, -0.32384643,  0.57313126,\n",
       "          0.4474571 , -0.5015263 ,  0.04522365, -0.16300884,\n",
       "          0.4344801 ,  0.7895104 , -0.20925617,  0.13910852,\n",
       "          0.09706446, -0.24407418, -0.80453765,  0.32705525,\n",
       "         -0.09608769,  0.16976206,  0.01944006, -0.09635919]],\n",
       "\n",
       "       [[-0.3616235 , -0.0912574 , -0.14394717,  0.05616005,\n",
       "         -0.42791054, -1.0513803 ,  0.38196707, -0.25973085,\n",
       "          0.22198543, -0.9439066 , -0.7405361 ,  0.27127096,\n",
       "         -0.11148115,  0.18584691, -0.16645628,  0.115528  ,\n",
       "          0.30022016,  0.52147233,  0.02483999, -0.15558524,\n",
       "          0.30153415,  0.1964361 ,  0.5217982 ,  0.43939018,\n",
       "          0.2390272 , -0.02010331, -0.30281052, -0.3867128 ,\n",
       "          0.5658195 ,  0.34132668,  0.0546862 , -0.18588355]]],\n",
       "      dtype=float32)"
      ]
     },
     "execution_count": 34,
     "metadata": {},
     "output_type": "execute_result"
    }
   ],
   "source": [
    "full_model.get_weights()[0][1]"
   ]
  },
  {
   "cell_type": "markdown",
   "metadata": {},
   "source": [
    "The weights are similar, so we can move further and compile the model and start the training"
   ]
  },
  {
   "cell_type": "code",
   "execution_count": 35,
   "metadata": {},
   "outputs": [],
   "source": [
    "# Since the encoder part is already trained, we do not need to train it again. So, we will make those \n",
    "# 19 layers of the model as trainable false. We will only train the fully connected layer part\n",
    "for layer in full_model.layers[:19]:\n",
    "    layer.trainable = False"
   ]
  },
  {
   "cell_type": "code",
   "execution_count": 36,
   "metadata": {},
   "outputs": [],
   "source": [
    "# Now, we will compile the model\n",
    "full_model.compile(loss ='categorical_crossentropy', optimizer = 'adam', metrics = ['accuracy'])"
   ]
  },
  {
   "cell_type": "code",
   "execution_count": 37,
   "metadata": {},
   "outputs": [
    {
     "name": "stdout",
     "output_type": "stream",
     "text": [
      "_________________________________________________________________\n",
      "Layer (type)                 Output Shape              Param #   \n",
      "=================================================================\n",
      "input_1 (InputLayer)         (None, 28, 28, 1)         0         \n",
      "_________________________________________________________________\n",
      "conv2d_16 (Conv2D)           (None, 28, 28, 32)        320       \n",
      "_________________________________________________________________\n",
      "batch_normalization_15 (Batc (None, 28, 28, 32)        128       \n",
      "_________________________________________________________________\n",
      "conv2d_17 (Conv2D)           (None, 28, 28, 32)        9248      \n",
      "_________________________________________________________________\n",
      "batch_normalization_16 (Batc (None, 28, 28, 32)        128       \n",
      "_________________________________________________________________\n",
      "max_pooling2d_3 (MaxPooling2 (None, 14, 14, 32)        0         \n",
      "_________________________________________________________________\n",
      "conv2d_18 (Conv2D)           (None, 14, 14, 64)        18496     \n",
      "_________________________________________________________________\n",
      "batch_normalization_17 (Batc (None, 14, 14, 64)        256       \n",
      "_________________________________________________________________\n",
      "conv2d_19 (Conv2D)           (None, 14, 14, 64)        36928     \n",
      "_________________________________________________________________\n",
      "batch_normalization_18 (Batc (None, 14, 14, 64)        256       \n",
      "_________________________________________________________________\n",
      "max_pooling2d_4 (MaxPooling2 (None, 7, 7, 64)          0         \n",
      "_________________________________________________________________\n",
      "conv2d_20 (Conv2D)           (None, 7, 7, 128)         73856     \n",
      "_________________________________________________________________\n",
      "batch_normalization_19 (Batc (None, 7, 7, 128)         512       \n",
      "_________________________________________________________________\n",
      "conv2d_21 (Conv2D)           (None, 7, 7, 128)         147584    \n",
      "_________________________________________________________________\n",
      "batch_normalization_20 (Batc (None, 7, 7, 128)         512       \n",
      "_________________________________________________________________\n",
      "conv2d_22 (Conv2D)           (None, 7, 7, 256)         295168    \n",
      "_________________________________________________________________\n",
      "batch_normalization_21 (Batc (None, 7, 7, 256)         1024      \n",
      "_________________________________________________________________\n",
      "conv2d_23 (Conv2D)           (None, 7, 7, 256)         590080    \n",
      "_________________________________________________________________\n",
      "batch_normalization_22 (Batc (None, 7, 7, 256)         1024      \n",
      "_________________________________________________________________\n",
      "flatten_1 (Flatten)          (None, 12544)             0         \n",
      "_________________________________________________________________\n",
      "dense_1 (Dense)              (None, 128)               1605760   \n",
      "_________________________________________________________________\n",
      "dense_2 (Dense)              (None, 10)                1290      \n",
      "=================================================================\n",
      "Total params: 2,782,570\n",
      "Trainable params: 1,607,050\n",
      "Non-trainable params: 1,175,520\n",
      "_________________________________________________________________\n"
     ]
    }
   ],
   "source": [
    "# summary of the model\n",
    "full_model.summary()"
   ]
  },
  {
   "cell_type": "markdown",
   "metadata": {},
   "source": [
    "### Training the classification model"
   ]
  },
  {
   "cell_type": "code",
   "execution_count": 38,
   "metadata": {},
   "outputs": [
    {
     "name": "stdout",
     "output_type": "stream",
     "text": [
      "Train on 48000 samples, validate on 12000 samples\n",
      "Epoch 1/100\n",
      "48000/48000 [==============================] - 5s 105us/step - loss: 0.3715 - acc: 0.8717 - val_loss: 0.2606 - val_acc: 0.9070\n",
      "Epoch 2/100\n",
      "48000/48000 [==============================] - 4s 93us/step - loss: 0.2247 - acc: 0.9181 - val_loss: 0.2682 - val_acc: 0.9090\n",
      "Epoch 3/100\n",
      "48000/48000 [==============================] - 4s 93us/step - loss: 0.1811 - acc: 0.9323 - val_loss: 0.2732 - val_acc: 0.9077\n",
      "Epoch 4/100\n",
      "48000/48000 [==============================] - 4s 92us/step - loss: 0.1537 - acc: 0.9404 - val_loss: 0.2651 - val_acc: 0.9137\n",
      "Epoch 5/100\n",
      "48000/48000 [==============================] - 4s 92us/step - loss: 0.1343 - acc: 0.9497 - val_loss: 0.2641 - val_acc: 0.9183\n",
      "Epoch 6/100\n",
      "48000/48000 [==============================] - 4s 92us/step - loss: 0.1141 - acc: 0.9580 - val_loss: 0.2794 - val_acc: 0.9172\n",
      "Epoch 7/100\n",
      "48000/48000 [==============================] - 4s 92us/step - loss: 0.1065 - acc: 0.9605 - val_loss: 0.3272 - val_acc: 0.9129\n",
      "Epoch 8/100\n",
      "48000/48000 [==============================] - 4s 92us/step - loss: 0.0877 - acc: 0.9668 - val_loss: 0.3329 - val_acc: 0.9113\n",
      "Epoch 9/100\n",
      "48000/48000 [==============================] - 4s 92us/step - loss: 0.0776 - acc: 0.9715 - val_loss: 0.3365 - val_acc: 0.9179\n",
      "Epoch 10/100\n",
      "48000/48000 [==============================] - 4s 92us/step - loss: 0.0667 - acc: 0.9749 - val_loss: 0.3663 - val_acc: 0.9169\n",
      "Epoch 11/100\n",
      "48000/48000 [==============================] - 4s 92us/step - loss: 0.0663 - acc: 0.9755 - val_loss: 0.3758 - val_acc: 0.9178\n",
      "Epoch 12/100\n",
      "48000/48000 [==============================] - 4s 91us/step - loss: 0.0568 - acc: 0.9785 - val_loss: 0.3729 - val_acc: 0.9209\n",
      "Epoch 13/100\n",
      "48000/48000 [==============================] - 4s 92us/step - loss: 0.0487 - acc: 0.9822 - val_loss: 0.4374 - val_acc: 0.9131\n",
      "Epoch 14/100\n",
      "48000/48000 [==============================] - 4s 92us/step - loss: 0.0480 - acc: 0.9826 - val_loss: 0.4172 - val_acc: 0.9193\n",
      "Epoch 15/100\n",
      "48000/48000 [==============================] - 4s 92us/step - loss: 0.0429 - acc: 0.9844 - val_loss: 0.4454 - val_acc: 0.9173\n",
      "Epoch 16/100\n",
      "48000/48000 [==============================] - 4s 93us/step - loss: 0.0432 - acc: 0.9846 - val_loss: 0.4489 - val_acc: 0.9167\n",
      "Epoch 17/100\n",
      "48000/48000 [==============================] - 4s 93us/step - loss: 0.0383 - acc: 0.9856 - val_loss: 0.4646 - val_acc: 0.9190\n",
      "Epoch 18/100\n",
      "48000/48000 [==============================] - 4s 93us/step - loss: 0.0338 - acc: 0.9881 - val_loss: 0.4670 - val_acc: 0.9240\n",
      "Epoch 19/100\n",
      "48000/48000 [==============================] - 4s 94us/step - loss: 0.0326 - acc: 0.9875 - val_loss: 0.4513 - val_acc: 0.9208\n",
      "Epoch 20/100\n",
      "48000/48000 [==============================] - 4s 93us/step - loss: 0.0322 - acc: 0.9890 - val_loss: 0.5287 - val_acc: 0.9181\n",
      "Epoch 21/100\n",
      "48000/48000 [==============================] - 4s 92us/step - loss: 0.0345 - acc: 0.9884 - val_loss: 0.5058 - val_acc: 0.9203\n",
      "Epoch 22/100\n",
      "48000/48000 [==============================] - 4s 92us/step - loss: 0.0275 - acc: 0.9903 - val_loss: 0.5003 - val_acc: 0.9206\n",
      "Epoch 23/100\n",
      "48000/48000 [==============================] - 4s 93us/step - loss: 0.0295 - acc: 0.9900 - val_loss: 0.5098 - val_acc: 0.9195\n",
      "Epoch 24/100\n",
      "48000/48000 [==============================] - 4s 92us/step - loss: 0.0268 - acc: 0.9908 - val_loss: 0.5530 - val_acc: 0.9217\n",
      "Epoch 25/100\n",
      "48000/48000 [==============================] - 4s 92us/step - loss: 0.0248 - acc: 0.9916 - val_loss: 0.5748 - val_acc: 0.9182\n",
      "Epoch 26/100\n",
      "48000/48000 [==============================] - 4s 92us/step - loss: 0.0282 - acc: 0.9904 - val_loss: 0.5891 - val_acc: 0.9147\n",
      "Epoch 27/100\n",
      "48000/48000 [==============================] - 4s 93us/step - loss: 0.0300 - acc: 0.9900 - val_loss: 0.5466 - val_acc: 0.9200\n",
      "Epoch 28/100\n",
      "48000/48000 [==============================] - 4s 94us/step - loss: 0.0271 - acc: 0.9915 - val_loss: 0.5432 - val_acc: 0.9189\n",
      "Epoch 29/100\n",
      "48000/48000 [==============================] - 4s 93us/step - loss: 0.0166 - acc: 0.9940 - val_loss: 0.5851 - val_acc: 0.9162\n",
      "Epoch 30/100\n",
      "48000/48000 [==============================] - 4s 93us/step - loss: 0.0228 - acc: 0.9925 - val_loss: 0.5744 - val_acc: 0.9183\n",
      "Epoch 31/100\n",
      "48000/48000 [==============================] - 4s 93us/step - loss: 0.0227 - acc: 0.9922 - val_loss: 0.5854 - val_acc: 0.9187\n",
      "Epoch 32/100\n",
      "48000/48000 [==============================] - 4s 93us/step - loss: 0.0211 - acc: 0.9931 - val_loss: 0.6011 - val_acc: 0.9181\n",
      "Epoch 33/100\n",
      "48000/48000 [==============================] - 4s 93us/step - loss: 0.0274 - acc: 0.9914 - val_loss: 0.5855 - val_acc: 0.9224\n",
      "Epoch 34/100\n",
      "48000/48000 [==============================] - 4s 93us/step - loss: 0.0166 - acc: 0.9946 - val_loss: 0.6188 - val_acc: 0.9192\n",
      "Epoch 35/100\n",
      "48000/48000 [==============================] - 4s 92us/step - loss: 0.0257 - acc: 0.9920 - val_loss: 0.6302 - val_acc: 0.9188\n",
      "Epoch 36/100\n",
      "48000/48000 [==============================] - 4s 92us/step - loss: 0.0165 - acc: 0.9945 - val_loss: 0.6731 - val_acc: 0.9103\n",
      "Epoch 37/100\n",
      "48000/48000 [==============================] - 4s 93us/step - loss: 0.0205 - acc: 0.9935 - val_loss: 0.6505 - val_acc: 0.9166\n",
      "Epoch 38/100\n",
      "48000/48000 [==============================] - 4s 92us/step - loss: 0.0164 - acc: 0.9945 - val_loss: 0.6260 - val_acc: 0.9207\n",
      "Epoch 39/100\n",
      "48000/48000 [==============================] - 4s 92us/step - loss: 0.0195 - acc: 0.9939 - val_loss: 0.6459 - val_acc: 0.9183\n",
      "Epoch 40/100\n",
      "48000/48000 [==============================] - 4s 92us/step - loss: 0.0242 - acc: 0.9925 - val_loss: 0.6301 - val_acc: 0.9185\n",
      "Epoch 41/100\n",
      "48000/48000 [==============================] - 4s 93us/step - loss: 0.0180 - acc: 0.9940 - val_loss: 0.7275 - val_acc: 0.9130\n",
      "Epoch 42/100\n",
      "48000/48000 [==============================] - 4s 93us/step - loss: 0.0137 - acc: 0.9958 - val_loss: 0.6225 - val_acc: 0.9229\n",
      "Epoch 43/100\n",
      "48000/48000 [==============================] - 4s 92us/step - loss: 0.0197 - acc: 0.9937 - val_loss: 0.6446 - val_acc: 0.9199\n",
      "Epoch 44/100\n",
      "48000/48000 [==============================] - 4s 92us/step - loss: 0.0175 - acc: 0.9943 - val_loss: 0.6656 - val_acc: 0.9177\n",
      "Epoch 45/100\n",
      "48000/48000 [==============================] - 4s 93us/step - loss: 0.0186 - acc: 0.9942 - val_loss: 0.6962 - val_acc: 0.9163\n",
      "Epoch 46/100\n",
      "48000/48000 [==============================] - 4s 93us/step - loss: 0.0169 - acc: 0.9945 - val_loss: 0.6765 - val_acc: 0.9166\n",
      "Epoch 47/100\n",
      "48000/48000 [==============================] - 5s 94us/step - loss: 0.0135 - acc: 0.9959 - val_loss: 0.6996 - val_acc: 0.9189\n",
      "Epoch 48/100\n",
      "48000/48000 [==============================] - 4s 94us/step - loss: 0.0261 - acc: 0.9926 - val_loss: 0.7246 - val_acc: 0.9133\n",
      "Epoch 49/100\n",
      "48000/48000 [==============================] - 4s 93us/step - loss: 0.0153 - acc: 0.9950 - val_loss: 0.6528 - val_acc: 0.9221\n",
      "Epoch 50/100\n",
      "48000/48000 [==============================] - 4s 93us/step - loss: 0.0129 - acc: 0.9957 - val_loss: 0.6538 - val_acc: 0.9207\n",
      "Epoch 51/100\n",
      "48000/48000 [==============================] - 4s 93us/step - loss: 0.0152 - acc: 0.9954 - val_loss: 0.6926 - val_acc: 0.9180\n",
      "Epoch 52/100\n",
      "48000/48000 [==============================] - 4s 93us/step - loss: 0.0185 - acc: 0.9948 - val_loss: 0.6632 - val_acc: 0.9228\n",
      "Epoch 53/100\n",
      "48000/48000 [==============================] - 4s 93us/step - loss: 0.0134 - acc: 0.9958 - val_loss: 0.6749 - val_acc: 0.9224\n",
      "Epoch 54/100\n",
      "48000/48000 [==============================] - 4s 92us/step - loss: 0.0144 - acc: 0.9956 - val_loss: 0.7254 - val_acc: 0.9165\n",
      "Epoch 55/100\n",
      "48000/48000 [==============================] - 4s 92us/step - loss: 0.0181 - acc: 0.9950 - val_loss: 0.7358 - val_acc: 0.9143\n",
      "Epoch 56/100\n",
      "48000/48000 [==============================] - 4s 92us/step - loss: 0.0151 - acc: 0.9960 - val_loss: 0.7175 - val_acc: 0.9218\n",
      "Epoch 57/100\n",
      "48000/48000 [==============================] - 4s 92us/step - loss: 0.0165 - acc: 0.9953 - val_loss: 0.7063 - val_acc: 0.9163\n",
      "Epoch 58/100\n",
      "48000/48000 [==============================] - 4s 92us/step - loss: 0.0178 - acc: 0.9946 - val_loss: 0.6935 - val_acc: 0.9193\n",
      "Epoch 59/100\n"
     ]
    },
    {
     "name": "stdout",
     "output_type": "stream",
     "text": [
      "48000/48000 [==============================] - 4s 94us/step - loss: 0.0108 - acc: 0.9969 - val_loss: 0.7031 - val_acc: 0.9205\n",
      "Epoch 60/100\n",
      "48000/48000 [==============================] - 5s 94us/step - loss: 0.0114 - acc: 0.9966 - val_loss: 0.6992 - val_acc: 0.9229\n",
      "Epoch 61/100\n",
      "48000/48000 [==============================] - 4s 93us/step - loss: 0.0219 - acc: 0.9942 - val_loss: 0.7361 - val_acc: 0.9208\n",
      "Epoch 62/100\n",
      "48000/48000 [==============================] - 4s 93us/step - loss: 0.0116 - acc: 0.9968 - val_loss: 0.7707 - val_acc: 0.9162\n",
      "Epoch 63/100\n",
      "48000/48000 [==============================] - 4s 93us/step - loss: 0.0187 - acc: 0.9946 - val_loss: 0.7127 - val_acc: 0.9241\n",
      "Epoch 64/100\n",
      "48000/48000 [==============================] - 4s 93us/step - loss: 0.0135 - acc: 0.9964 - val_loss: 0.7662 - val_acc: 0.9201\n",
      "Epoch 65/100\n",
      "48000/48000 [==============================] - 4s 93us/step - loss: 0.0191 - acc: 0.9949 - val_loss: 0.7786 - val_acc: 0.9188\n",
      "Epoch 66/100\n",
      "48000/48000 [==============================] - 4s 92us/step - loss: 0.0170 - acc: 0.9954 - val_loss: 0.7551 - val_acc: 0.9177\n",
      "Epoch 67/100\n",
      "48000/48000 [==============================] - 4s 92us/step - loss: 0.0136 - acc: 0.9962 - val_loss: 0.7584 - val_acc: 0.9171\n",
      "Epoch 68/100\n",
      "48000/48000 [==============================] - 4s 92us/step - loss: 0.0149 - acc: 0.9965 - val_loss: 0.7486 - val_acc: 0.9203\n",
      "Epoch 69/100\n",
      "48000/48000 [==============================] - 4s 93us/step - loss: 0.0170 - acc: 0.9957 - val_loss: 0.7673 - val_acc: 0.9148\n",
      "Epoch 70/100\n",
      "48000/48000 [==============================] - 4s 93us/step - loss: 0.0114 - acc: 0.9970 - val_loss: 0.7516 - val_acc: 0.9147\n",
      "Epoch 71/100\n",
      "48000/48000 [==============================] - 4s 93us/step - loss: 0.0147 - acc: 0.9960 - val_loss: 0.7936 - val_acc: 0.9153\n",
      "Epoch 72/100\n",
      "48000/48000 [==============================] - 5s 94us/step - loss: 0.0112 - acc: 0.9967 - val_loss: 0.7679 - val_acc: 0.9159\n",
      "Epoch 73/100\n",
      "48000/48000 [==============================] - 4s 94us/step - loss: 0.0161 - acc: 0.9954 - val_loss: 0.7844 - val_acc: 0.9177\n",
      "Epoch 74/100\n",
      "48000/48000 [==============================] - 4s 93us/step - loss: 0.0095 - acc: 0.9972 - val_loss: 0.7772 - val_acc: 0.9197\n",
      "Epoch 75/100\n",
      "48000/48000 [==============================] - 4s 92us/step - loss: 0.0189 - acc: 0.9950 - val_loss: 0.8062 - val_acc: 0.9171\n",
      "Epoch 76/100\n",
      "48000/48000 [==============================] - 4s 93us/step - loss: 0.0173 - acc: 0.9958 - val_loss: 0.8122 - val_acc: 0.9133\n",
      "Epoch 77/100\n",
      "48000/48000 [==============================] - 4s 93us/step - loss: 0.0128 - acc: 0.9964 - val_loss: 0.7841 - val_acc: 0.9191\n",
      "Epoch 78/100\n",
      "48000/48000 [==============================] - 4s 93us/step - loss: 0.0104 - acc: 0.9969 - val_loss: 0.8137 - val_acc: 0.9153\n",
      "Epoch 79/100\n",
      "48000/48000 [==============================] - 4s 93us/step - loss: 0.0162 - acc: 0.9958 - val_loss: 0.7617 - val_acc: 0.9189\n",
      "Epoch 80/100\n",
      "48000/48000 [==============================] - 4s 93us/step - loss: 0.0143 - acc: 0.9965 - val_loss: 0.8117 - val_acc: 0.9187\n",
      "Epoch 81/100\n",
      "48000/48000 [==============================] - 4s 93us/step - loss: 0.0151 - acc: 0.9961 - val_loss: 0.8305 - val_acc: 0.9135\n",
      "Epoch 82/100\n",
      "48000/48000 [==============================] - 4s 93us/step - loss: 0.0135 - acc: 0.9967 - val_loss: 0.7885 - val_acc: 0.9224\n",
      "Epoch 83/100\n",
      "48000/48000 [==============================] - 4s 93us/step - loss: 0.0140 - acc: 0.9962 - val_loss: 0.7784 - val_acc: 0.9214\n",
      "Epoch 84/100\n",
      "48000/48000 [==============================] - 4s 93us/step - loss: 0.0132 - acc: 0.9964 - val_loss: 0.8182 - val_acc: 0.9216\n",
      "Epoch 85/100\n",
      "48000/48000 [==============================] - 5s 94us/step - loss: 0.0089 - acc: 0.9977 - val_loss: 0.8130 - val_acc: 0.9202\n",
      "Epoch 86/100\n",
      "48000/48000 [==============================] - 4s 93us/step - loss: 0.0182 - acc: 0.9954 - val_loss: 0.8093 - val_acc: 0.9196\n",
      "Epoch 87/100\n",
      "48000/48000 [==============================] - 4s 93us/step - loss: 0.0100 - acc: 0.9973 - val_loss: 0.8451 - val_acc: 0.9194\n",
      "Epoch 88/100\n",
      "48000/48000 [==============================] - 4s 92us/step - loss: 0.0126 - acc: 0.9969 - val_loss: 0.8373 - val_acc: 0.9189\n",
      "Epoch 89/100\n",
      "48000/48000 [==============================] - 4s 92us/step - loss: 0.0139 - acc: 0.9966 - val_loss: 0.8321 - val_acc: 0.9194\n",
      "Epoch 90/100\n",
      "48000/48000 [==============================] - 4s 93us/step - loss: 0.0139 - acc: 0.9967 - val_loss: 0.8514 - val_acc: 0.9147\n",
      "Epoch 91/100\n",
      "48000/48000 [==============================] - 4s 93us/step - loss: 0.0157 - acc: 0.9962 - val_loss: 0.8218 - val_acc: 0.9191\n",
      "Epoch 92/100\n",
      "48000/48000 [==============================] - 4s 93us/step - loss: 0.0082 - acc: 0.9976 - val_loss: 0.8061 - val_acc: 0.9196\n",
      "Epoch 93/100\n",
      "48000/48000 [==============================] - 4s 92us/step - loss: 0.0123 - acc: 0.9969 - val_loss: 0.8923 - val_acc: 0.9125\n",
      "Epoch 94/100\n",
      "48000/48000 [==============================] - 4s 92us/step - loss: 0.0164 - acc: 0.9960 - val_loss: 0.8640 - val_acc: 0.9177\n",
      "Epoch 95/100\n",
      "48000/48000 [==============================] - 4s 92us/step - loss: 0.0122 - acc: 0.9970 - val_loss: 0.8239 - val_acc: 0.9175\n",
      "Epoch 96/100\n",
      "48000/48000 [==============================] - 4s 92us/step - loss: 0.0109 - acc: 0.9974 - val_loss: 0.8240 - val_acc: 0.9197\n",
      "Epoch 97/100\n",
      "48000/48000 [==============================] - 4s 93us/step - loss: 0.0171 - acc: 0.9964 - val_loss: 0.8706 - val_acc: 0.9155\n",
      "Epoch 98/100\n",
      "48000/48000 [==============================] - 4s 92us/step - loss: 0.0107 - acc: 0.9975 - val_loss: 0.8322 - val_acc: 0.9212\n",
      "Epoch 99/100\n",
      "48000/48000 [==============================] - 4s 93us/step - loss: 0.0111 - acc: 0.9971 - val_loss: 0.8252 - val_acc: 0.9205\n",
      "Epoch 100/100\n",
      "48000/48000 [==============================] - 4s 92us/step - loss: 0.0093 - acc: 0.9973 - val_loss: 0.8419 - val_acc: 0.9191\n"
     ]
    }
   ],
   "source": [
    "# Training the model for 100 epochs using the keras fit function and visualizing the accuracy and loss curves\n",
    "\n",
    "history_classification = full_model.fit(X_train, y_trainc, batch_size = 64, epochs= 100,\n",
    "                                   verbose =1, validation_data = (X_valc, y_valc))"
   ]
  },
  {
   "cell_type": "code",
   "execution_count": 39,
   "metadata": {},
   "outputs": [],
   "source": [
    "# Saving the classification model's weights\n",
    "full_model.save_weights('full_model_weights.h5')"
   ]
  },
  {
   "cell_type": "markdown",
   "metadata": {},
   "source": [
    "### Retraining the full model"
   ]
  },
  {
   "cell_type": "code",
   "execution_count": 40,
   "metadata": {},
   "outputs": [],
   "source": [
    "# Now we will retrain the full model along with the other 19 layers\n",
    "for layer in full_model.layers[:19]:\n",
    "    layer.trainable = True"
   ]
  },
  {
   "cell_type": "code",
   "execution_count": 41,
   "metadata": {},
   "outputs": [],
   "source": [
    "# Now, we will compile the model\n",
    "full_model.compile(loss ='categorical_crossentropy', optimizer = 'adam', metrics = ['accuracy'])"
   ]
  },
  {
   "cell_type": "code",
   "execution_count": 43,
   "metadata": {},
   "outputs": [
    {
     "name": "stdout",
     "output_type": "stream",
     "text": [
      "Train on 48000 samples, validate on 12000 samples\n",
      "Epoch 1/100\n",
      "48000/48000 [==============================] - 10s 218us/step - loss: 0.2806 - acc: 0.9544 - val_loss: 0.8130 - val_acc: 0.8846\n",
      "Epoch 2/100\n",
      "48000/48000 [==============================] - 10s 202us/step - loss: 0.1700 - acc: 0.9629 - val_loss: 0.6177 - val_acc: 0.8960\n",
      "Epoch 3/100\n",
      "48000/48000 [==============================] - 10s 202us/step - loss: 0.1220 - acc: 0.9693 - val_loss: 0.5479 - val_acc: 0.9109\n",
      "Epoch 4/100\n",
      "48000/48000 [==============================] - 10s 202us/step - loss: 0.0920 - acc: 0.9751 - val_loss: 0.5407 - val_acc: 0.9066\n",
      "Epoch 5/100\n",
      "48000/48000 [==============================] - 10s 202us/step - loss: 0.0748 - acc: 0.9789 - val_loss: 0.5832 - val_acc: 0.9129\n",
      "Epoch 6/100\n",
      "48000/48000 [==============================] - 10s 201us/step - loss: 0.0791 - acc: 0.9777 - val_loss: 0.5490 - val_acc: 0.9111\n",
      "Epoch 7/100\n",
      "48000/48000 [==============================] - 10s 202us/step - loss: 0.0891 - acc: 0.9760 - val_loss: 0.5278 - val_acc: 0.9118\n",
      "Epoch 8/100\n",
      "48000/48000 [==============================] - 10s 203us/step - loss: 0.0807 - acc: 0.9778 - val_loss: 0.4718 - val_acc: 0.9203\n",
      "Epoch 9/100\n",
      "48000/48000 [==============================] - 10s 202us/step - loss: 0.0721 - acc: 0.9801 - val_loss: 0.5328 - val_acc: 0.9133\n",
      "Epoch 10/100\n",
      "48000/48000 [==============================] - 10s 201us/step - loss: 0.0542 - acc: 0.9844 - val_loss: 0.4773 - val_acc: 0.9165\n",
      "Epoch 11/100\n",
      "48000/48000 [==============================] - 10s 201us/step - loss: 0.0510 - acc: 0.9845 - val_loss: 0.4677 - val_acc: 0.9222\n",
      "Epoch 12/100\n",
      "48000/48000 [==============================] - 10s 202us/step - loss: 0.0372 - acc: 0.9881 - val_loss: 0.5023 - val_acc: 0.9203\n",
      "Epoch 13/100\n",
      "48000/48000 [==============================] - 10s 202us/step - loss: 0.0570 - acc: 0.9835 - val_loss: 0.4406 - val_acc: 0.9176\n",
      "Epoch 14/100\n",
      "48000/48000 [==============================] - 10s 202us/step - loss: 0.0486 - acc: 0.9855 - val_loss: 0.4553 - val_acc: 0.9202\n",
      "Epoch 15/100\n",
      "48000/48000 [==============================] - 10s 202us/step - loss: 0.0367 - acc: 0.9882 - val_loss: 0.5276 - val_acc: 0.9139\n",
      "Epoch 16/100\n",
      "48000/48000 [==============================] - 10s 201us/step - loss: 0.0455 - acc: 0.9874 - val_loss: 0.4875 - val_acc: 0.9155\n",
      "Epoch 17/100\n",
      "48000/48000 [==============================] - 10s 201us/step - loss: 0.0386 - acc: 0.9883 - val_loss: 0.5237 - val_acc: 0.9178\n",
      "Epoch 18/100\n",
      "48000/48000 [==============================] - 10s 201us/step - loss: 0.0357 - acc: 0.9897 - val_loss: 0.5353 - val_acc: 0.9204\n",
      "Epoch 19/100\n",
      "48000/48000 [==============================] - 10s 202us/step - loss: 0.0394 - acc: 0.9888 - val_loss: 0.4841 - val_acc: 0.9232\n",
      "Epoch 20/100\n",
      "48000/48000 [==============================] - 10s 201us/step - loss: 0.0293 - acc: 0.9913 - val_loss: 0.5035 - val_acc: 0.9197\n",
      "Epoch 21/100\n",
      "48000/48000 [==============================] - 10s 201us/step - loss: 0.0343 - acc: 0.9899 - val_loss: 0.5196 - val_acc: 0.9233\n",
      "Epoch 22/100\n",
      "48000/48000 [==============================] - 10s 201us/step - loss: 0.0229 - acc: 0.9924 - val_loss: 0.4998 - val_acc: 0.9235\n",
      "Epoch 23/100\n",
      "48000/48000 [==============================] - 10s 201us/step - loss: 0.0220 - acc: 0.9929 - val_loss: 0.5426 - val_acc: 0.9224\n",
      "Epoch 24/100\n",
      "48000/48000 [==============================] - 10s 201us/step - loss: 0.0298 - acc: 0.9905 - val_loss: 0.5246 - val_acc: 0.9202\n",
      "Epoch 25/100\n",
      "48000/48000 [==============================] - 10s 202us/step - loss: 0.0419 - acc: 0.9882 - val_loss: 0.5090 - val_acc: 0.9182\n",
      "Epoch 26/100\n",
      "48000/48000 [==============================] - 10s 202us/step - loss: 0.0236 - acc: 0.9927 - val_loss: 0.5114 - val_acc: 0.9273\n",
      "Epoch 27/100\n",
      "48000/48000 [==============================] - 10s 202us/step - loss: 0.0204 - acc: 0.9941 - val_loss: 0.5271 - val_acc: 0.9262\n",
      "Epoch 28/100\n",
      "48000/48000 [==============================] - 10s 202us/step - loss: 0.0188 - acc: 0.9947 - val_loss: 0.6044 - val_acc: 0.9160\n",
      "Epoch 29/100\n",
      "48000/48000 [==============================] - 10s 202us/step - loss: 0.0323 - acc: 0.9905 - val_loss: 0.5270 - val_acc: 0.9238\n",
      "Epoch 30/100\n",
      "48000/48000 [==============================] - 10s 202us/step - loss: 0.0193 - acc: 0.9942 - val_loss: 0.5293 - val_acc: 0.9230\n",
      "Epoch 31/100\n",
      "48000/48000 [==============================] - 10s 203us/step - loss: 0.0255 - acc: 0.9925 - val_loss: 0.5049 - val_acc: 0.9270\n",
      "Epoch 32/100\n",
      "48000/48000 [==============================] - 10s 203us/step - loss: 0.0166 - acc: 0.9950 - val_loss: 0.5270 - val_acc: 0.9263\n",
      "Epoch 33/100\n",
      "48000/48000 [==============================] - 10s 203us/step - loss: 0.0199 - acc: 0.9938 - val_loss: 0.5718 - val_acc: 0.9219\n",
      "Epoch 34/100\n",
      "48000/48000 [==============================] - 10s 202us/step - loss: 0.0257 - acc: 0.9922 - val_loss: 0.5663 - val_acc: 0.9205\n",
      "Epoch 35/100\n",
      "48000/48000 [==============================] - 10s 203us/step - loss: 0.0185 - acc: 0.9941 - val_loss: 0.6011 - val_acc: 0.9200\n",
      "Epoch 36/100\n",
      "48000/48000 [==============================] - 10s 203us/step - loss: 0.0234 - acc: 0.9939 - val_loss: 0.5625 - val_acc: 0.9213\n",
      "Epoch 37/100\n",
      "48000/48000 [==============================] - 10s 202us/step - loss: 0.0225 - acc: 0.9934 - val_loss: 0.5394 - val_acc: 0.9220\n",
      "Epoch 38/100\n",
      "48000/48000 [==============================] - 10s 202us/step - loss: 0.0153 - acc: 0.9956 - val_loss: 0.5358 - val_acc: 0.9242\n",
      "Epoch 39/100\n",
      "48000/48000 [==============================] - 10s 202us/step - loss: 0.0163 - acc: 0.9951 - val_loss: 0.5471 - val_acc: 0.9227\n",
      "Epoch 40/100\n",
      "48000/48000 [==============================] - 10s 202us/step - loss: 0.0220 - acc: 0.9939 - val_loss: 0.5814 - val_acc: 0.9231\n",
      "Epoch 41/100\n",
      "48000/48000 [==============================] - 10s 202us/step - loss: 0.0169 - acc: 0.9952 - val_loss: 0.5347 - val_acc: 0.9268\n",
      "Epoch 42/100\n",
      "48000/48000 [==============================] - 10s 201us/step - loss: 0.0111 - acc: 0.9967 - val_loss: 0.5489 - val_acc: 0.9243\n",
      "Epoch 43/100\n",
      "48000/48000 [==============================] - 10s 202us/step - loss: 0.0122 - acc: 0.9965 - val_loss: 0.5446 - val_acc: 0.9278\n",
      "Epoch 44/100\n",
      "48000/48000 [==============================] - 10s 202us/step - loss: 0.0213 - acc: 0.9938 - val_loss: 0.5565 - val_acc: 0.9257\n",
      "Epoch 45/100\n",
      "48000/48000 [==============================] - 10s 201us/step - loss: 0.0152 - acc: 0.9954 - val_loss: 0.5488 - val_acc: 0.9231\n",
      "Epoch 46/100\n",
      "48000/48000 [==============================] - 10s 201us/step - loss: 0.0174 - acc: 0.9950 - val_loss: 0.5959 - val_acc: 0.9224\n",
      "Epoch 47/100\n",
      "48000/48000 [==============================] - 10s 202us/step - loss: 0.0133 - acc: 0.9959 - val_loss: 0.5976 - val_acc: 0.9207\n",
      "Epoch 48/100\n",
      "48000/48000 [==============================] - 10s 201us/step - loss: 0.0161 - acc: 0.9956 - val_loss: 0.5781 - val_acc: 0.9263\n",
      "Epoch 49/100\n",
      "48000/48000 [==============================] - 10s 202us/step - loss: 0.0164 - acc: 0.9958 - val_loss: 0.5783 - val_acc: 0.9201\n",
      "Epoch 50/100\n",
      "48000/48000 [==============================] - 10s 201us/step - loss: 0.0151 - acc: 0.9959 - val_loss: 0.6142 - val_acc: 0.9250\n",
      "Epoch 51/100\n",
      "48000/48000 [==============================] - 10s 202us/step - loss: 0.0134 - acc: 0.9960 - val_loss: 0.5954 - val_acc: 0.9226\n",
      "Epoch 52/100\n",
      "48000/48000 [==============================] - 10s 202us/step - loss: 0.0131 - acc: 0.9960 - val_loss: 0.6082 - val_acc: 0.9212\n",
      "Epoch 53/100\n",
      "48000/48000 [==============================] - 10s 202us/step - loss: 0.0185 - acc: 0.9950 - val_loss: 0.6427 - val_acc: 0.9202\n",
      "Epoch 54/100\n",
      "48000/48000 [==============================] - 10s 202us/step - loss: 0.0162 - acc: 0.9959 - val_loss: 0.5963 - val_acc: 0.9207\n",
      "Epoch 55/100\n",
      "48000/48000 [==============================] - 10s 203us/step - loss: 0.0099 - acc: 0.9971 - val_loss: 0.6136 - val_acc: 0.9280\n",
      "Epoch 56/100\n",
      "48000/48000 [==============================] - 10s 203us/step - loss: 0.0112 - acc: 0.9967 - val_loss: 0.6520 - val_acc: 0.9227\n",
      "Epoch 57/100\n",
      "48000/48000 [==============================] - 10s 203us/step - loss: 0.0143 - acc: 0.9961 - val_loss: 0.6374 - val_acc: 0.9217\n",
      "Epoch 58/100\n",
      "48000/48000 [==============================] - 10s 203us/step - loss: 0.0179 - acc: 0.9955 - val_loss: 0.6429 - val_acc: 0.9222\n"
     ]
    },
    {
     "name": "stdout",
     "output_type": "stream",
     "text": [
      "Epoch 59/100\n",
      "48000/48000 [==============================] - 10s 203us/step - loss: 0.0118 - acc: 0.9964 - val_loss: 0.6668 - val_acc: 0.9224\n",
      "Epoch 60/100\n",
      "48000/48000 [==============================] - 10s 203us/step - loss: 0.0114 - acc: 0.9970 - val_loss: 0.6157 - val_acc: 0.9250\n",
      "Epoch 61/100\n",
      "48000/48000 [==============================] - 10s 203us/step - loss: 0.0112 - acc: 0.9968 - val_loss: 0.6240 - val_acc: 0.9260\n",
      "Epoch 62/100\n",
      "48000/48000 [==============================] - 10s 204us/step - loss: 0.0154 - acc: 0.9955 - val_loss: 0.6530 - val_acc: 0.9223\n",
      "Epoch 63/100\n",
      "48000/48000 [==============================] - 10s 203us/step - loss: 0.0088 - acc: 0.9971 - val_loss: 0.6149 - val_acc: 0.9267\n",
      "Epoch 64/100\n",
      "48000/48000 [==============================] - 10s 203us/step - loss: 0.0119 - acc: 0.9965 - val_loss: 0.6687 - val_acc: 0.9190\n",
      "Epoch 65/100\n",
      "48000/48000 [==============================] - 10s 203us/step - loss: 0.0115 - acc: 0.9966 - val_loss: 0.5873 - val_acc: 0.9296\n",
      "Epoch 66/100\n",
      "48000/48000 [==============================] - 10s 203us/step - loss: 0.0107 - acc: 0.9975 - val_loss: 0.6746 - val_acc: 0.9249\n",
      "Epoch 67/100\n",
      "48000/48000 [==============================] - 10s 202us/step - loss: 0.0186 - acc: 0.9957 - val_loss: 0.6106 - val_acc: 0.9242\n",
      "Epoch 68/100\n",
      "48000/48000 [==============================] - 10s 203us/step - loss: 0.0100 - acc: 0.9973 - val_loss: 0.6170 - val_acc: 0.9227\n",
      "Epoch 69/100\n",
      "48000/48000 [==============================] - 10s 203us/step - loss: 0.0107 - acc: 0.9970 - val_loss: 0.7122 - val_acc: 0.9148\n",
      "Epoch 70/100\n",
      "48000/48000 [==============================] - 10s 203us/step - loss: 0.0193 - acc: 0.9953 - val_loss: 0.6682 - val_acc: 0.9236\n",
      "Epoch 71/100\n",
      "48000/48000 [==============================] - 10s 202us/step - loss: 0.0155 - acc: 0.9964 - val_loss: 0.5945 - val_acc: 0.9242\n",
      "Epoch 72/100\n",
      "48000/48000 [==============================] - 10s 202us/step - loss: 0.0076 - acc: 0.9981 - val_loss: 0.6048 - val_acc: 0.9275\n",
      "Epoch 73/100\n",
      "48000/48000 [==============================] - 10s 202us/step - loss: 0.0115 - acc: 0.9970 - val_loss: 0.7171 - val_acc: 0.9191\n",
      "Epoch 74/100\n",
      "48000/48000 [==============================] - 10s 203us/step - loss: 0.0103 - acc: 0.9973 - val_loss: 0.5945 - val_acc: 0.9233\n",
      "Epoch 75/100\n",
      "48000/48000 [==============================] - 10s 203us/step - loss: 0.0081 - acc: 0.9979 - val_loss: 0.6262 - val_acc: 0.9237\n",
      "Epoch 76/100\n",
      "48000/48000 [==============================] - 10s 203us/step - loss: 0.0109 - acc: 0.9970 - val_loss: 0.6340 - val_acc: 0.9268\n",
      "Epoch 77/100\n",
      "48000/48000 [==============================] - 10s 203us/step - loss: 0.0122 - acc: 0.9965 - val_loss: 0.6089 - val_acc: 0.9225\n",
      "Epoch 78/100\n",
      "48000/48000 [==============================] - 10s 203us/step - loss: 0.0127 - acc: 0.9965 - val_loss: 0.6111 - val_acc: 0.9219\n",
      "Epoch 79/100\n",
      "48000/48000 [==============================] - 10s 203us/step - loss: 0.0063 - acc: 0.9982 - val_loss: 0.6112 - val_acc: 0.9249\n",
      "Epoch 80/100\n",
      "48000/48000 [==============================] - 10s 201us/step - loss: 0.0120 - acc: 0.9965 - val_loss: 0.6312 - val_acc: 0.9254\n",
      "Epoch 81/100\n",
      "48000/48000 [==============================] - 10s 201us/step - loss: 0.0082 - acc: 0.9977 - val_loss: 0.6340 - val_acc: 0.9253\n",
      "Epoch 82/100\n",
      "48000/48000 [==============================] - 10s 202us/step - loss: 0.0097 - acc: 0.9973 - val_loss: 0.5918 - val_acc: 0.9262\n",
      "Epoch 83/100\n",
      "48000/48000 [==============================] - 10s 203us/step - loss: 0.0095 - acc: 0.9974 - val_loss: 0.6127 - val_acc: 0.9263\n",
      "Epoch 84/100\n",
      "48000/48000 [==============================] - 10s 202us/step - loss: 0.0062 - acc: 0.9981 - val_loss: 0.6394 - val_acc: 0.9247\n",
      "Epoch 85/100\n",
      "48000/48000 [==============================] - 10s 202us/step - loss: 0.0095 - acc: 0.9978 - val_loss: 0.6199 - val_acc: 0.9233\n",
      "Epoch 86/100\n",
      "48000/48000 [==============================] - 10s 201us/step - loss: 0.0115 - acc: 0.9970 - val_loss: 0.6872 - val_acc: 0.9226\n",
      "Epoch 87/100\n",
      "48000/48000 [==============================] - 10s 201us/step - loss: 0.0095 - acc: 0.9972 - val_loss: 0.6431 - val_acc: 0.9261\n",
      "Epoch 88/100\n",
      "48000/48000 [==============================] - 10s 201us/step - loss: 0.0103 - acc: 0.9970 - val_loss: 0.5833 - val_acc: 0.9266\n",
      "Epoch 89/100\n",
      "48000/48000 [==============================] - 10s 201us/step - loss: 0.0032 - acc: 0.9989 - val_loss: 0.6515 - val_acc: 0.9276\n",
      "Epoch 90/100\n",
      "48000/48000 [==============================] - 10s 201us/step - loss: 0.0053 - acc: 0.9984 - val_loss: 0.6297 - val_acc: 0.9244\n",
      "Epoch 91/100\n",
      "48000/48000 [==============================] - 10s 202us/step - loss: 0.0148 - acc: 0.9963 - val_loss: 0.6433 - val_acc: 0.9250\n",
      "Epoch 92/100\n",
      "48000/48000 [==============================] - 10s 202us/step - loss: 0.0133 - acc: 0.9968 - val_loss: 0.6077 - val_acc: 0.9289\n",
      "Epoch 93/100\n",
      "48000/48000 [==============================] - 10s 201us/step - loss: 0.0069 - acc: 0.9982 - val_loss: 0.6324 - val_acc: 0.9282\n",
      "Epoch 94/100\n",
      "48000/48000 [==============================] - 10s 202us/step - loss: 0.0052 - acc: 0.9984 - val_loss: 0.6531 - val_acc: 0.9240\n",
      "Epoch 95/100\n",
      "48000/48000 [==============================] - 10s 202us/step - loss: 0.0096 - acc: 0.9973 - val_loss: 0.5882 - val_acc: 0.9214\n",
      "Epoch 96/100\n",
      "48000/48000 [==============================] - 10s 202us/step - loss: 0.0089 - acc: 0.9978 - val_loss: 0.6732 - val_acc: 0.9220\n",
      "Epoch 97/100\n",
      "48000/48000 [==============================] - 10s 202us/step - loss: 0.0107 - acc: 0.9972 - val_loss: 0.6309 - val_acc: 0.9252\n",
      "Epoch 98/100\n",
      "48000/48000 [==============================] - 10s 202us/step - loss: 0.0099 - acc: 0.9975 - val_loss: 0.6235 - val_acc: 0.9253\n",
      "Epoch 99/100\n",
      "48000/48000 [==============================] - 10s 202us/step - loss: 0.0045 - acc: 0.9987 - val_loss: 0.6292 - val_acc: 0.9278\n",
      "Epoch 100/100\n",
      "48000/48000 [==============================] - 10s 201us/step - loss: 0.0083 - acc: 0.9976 - val_loss: 0.7161 - val_acc: 0.9234\n"
     ]
    }
   ],
   "source": [
    "history_classification = full_model.fit(X_train, y_trainc, batch_size = 64, epochs= 100,\n",
    "                                   verbose =1, validation_data = (X_valc, y_valc))"
   ]
  },
  {
   "cell_type": "code",
   "execution_count": 44,
   "metadata": {},
   "outputs": [],
   "source": [
    "# Saving the complete model now\n",
    "full_model.save_weights('full_model_complete.h5')"
   ]
  },
  {
   "cell_type": "code",
   "execution_count": 45,
   "metadata": {},
   "outputs": [
    {
     "name": "stdout",
     "output_type": "stream",
     "text": [
      "dict_keys(['val_loss', 'val_acc', 'loss', 'acc'])\n"
     ]
    },
    {
     "data": {
      "image/png": "[encoded data removed]",
      "text/plain": [
       "<matplotlib.figure.Figure at 0x7f8a845a9940>"
      ]
     },
     "metadata": {},
     "output_type": "display_data"
    },
    {
     "data": {
      "image/png": "[encoded data removed]",
      "text/plain": [
       "<matplotlib.figure.Figure at 0x7f8a841b7588>"
      ]
     },
     "metadata": {},
     "output_type": "display_data"
    }
   ],
   "source": [
    "# plotting the accuracy and loss curves\n",
    "# Now we can plot the loss curves to visualize the model performance\n",
    "# list all data in history\n",
    "print(history_classification.history.keys())\n",
    "\n",
    "# summarize history for loss\n",
    "plt.plot(history_classification.history['acc'])\n",
    "plt.plot(history_classification.history['val_acc'])\n",
    "plt.title('model accuracy')\n",
    "plt.ylabel('accuracy')\n",
    "plt.xlabel('epoch')\n",
    "plt.legend(['train', 'validation'], loc='upper right')\n",
    "plt.show()\n",
    "\n",
    "# summarize history for loss\n",
    "plt.plot(history_classification.history['loss'])\n",
    "plt.plot(history_classification.history['val_loss'])\n",
    "plt.title('model loss')\n",
    "plt.ylabel('loss')\n",
    "plt.xlabel('epoch')\n",
    "plt.legend(['train', 'validation'], loc='upper right')\n",
    "plt.show()"
   ]
  },
  {
   "cell_type": "markdown",
   "metadata": {},
   "source": [
    "### Model evaluation on the test set"
   ]
  },
  {
   "cell_type": "code",
   "execution_count": 46,
   "metadata": {},
   "outputs": [
    {
     "name": "stdout",
     "output_type": "stream",
     "text": [
      "10000/10000 [==============================] - 1s 93us/step\n"
     ]
    }
   ],
   "source": [
    "test_eval = full_model.evaluate(test_data, X_test_one_hot, verbose=1)"
   ]
  },
  {
   "cell_type": "code",
   "execution_count": 47,
   "metadata": {},
   "outputs": [
    {
     "name": "stdout",
     "output_type": "stream",
     "text": [
      "Test Accuracy 0.743126664990908\n",
      "Test Loss 0.919\n"
     ]
    }
   ],
   "source": [
    "# Let us see the test accuracy and loss\n",
    "print('Test Accuracy', test_eval[0])\n",
    "print('Test Loss', test_eval[1])"
   ]
  },
  {
   "cell_type": "markdown",
   "metadata": {},
   "source": [
    "### Prediction"
   ]
  },
  {
   "cell_type": "code",
   "execution_count": 49,
   "metadata": {},
   "outputs": [
    {
     "name": "stdout",
     "output_type": "stream",
     "text": [
      "[1.1257468e-22 0.0000000e+00 1.0000000e+00 2.0259230e-35 2.9935192e-32\n",
      " 0.0000000e+00 1.1228510e-31 0.0000000e+00 0.0000000e+00 0.0000000e+00]\n"
     ]
    }
   ],
   "source": [
    "predicted_classes = full_model.predict(test_data)\n",
    "print(predicted_classes[1])"
   ]
  },
  {
   "cell_type": "code",
   "execution_count": 50,
   "metadata": {},
   "outputs": [],
   "source": [
    "predicted_classes = np.argmax(np.round(predicted_classes), axis=1)"
   ]
  },
  {
   "cell_type": "code",
   "execution_count": 51,
   "metadata": {},
   "outputs": [
    {
     "name": "stdout",
     "output_type": "stream",
     "text": [
      "2\n"
     ]
    }
   ],
   "source": [
    "print(predicted_classes[1])"
   ]
  },
  {
   "cell_type": "code",
   "execution_count": 52,
   "metadata": {},
   "outputs": [
    {
     "data": {
      "text/plain": [
       "((10000,), (10000,))"
      ]
     },
     "execution_count": 52,
     "metadata": {},
     "output_type": "execute_result"
    }
   ],
   "source": [
    "predicted_classes.shape, test_labels.shape"
   ]
  },
  {
   "cell_type": "code",
   "execution_count": 56,
   "metadata": {},
   "outputs": [
    {
     "name": "stdout",
     "output_type": "stream",
     "text": [
      "Correctly identified samples are:  9189\n"
     ]
    },
    {
     "data": {
      "image/png": "[encoded data removed]",
      "text/plain": [
       "<matplotlib.figure.Figure at 0x7f8a84565cf8>"
      ]
     },
     "metadata": {},
     "output_type": "display_data"
    }
   ],
   "source": [
    "# finding the correct predicted labels\n",
    "correct = np.where(predicted_classes == test_labels)[0]\n",
    "\n",
    "print(\"Correctly identified samples are: \", len(correct))\n",
    "for i,correct in enumerate(correct[:9]):\n",
    "    plt.subplot(3,3,i+1)\n",
    "    plt.imshow(test_data[correct].reshape(28,28), cmap = 'gray', interpolation = 'none')\n",
    "    plt.title(\"Predicted {}, Class {}\".format(predicted_classes[correct], test_labels[correct]))\n",
    "    plt.tight_layout()"
   ]
  },
  {
   "cell_type": "code",
   "execution_count": 58,
   "metadata": {},
   "outputs": [
    {
     "name": "stdout",
     "output_type": "stream",
     "text": [
      "Incorrectly identified samples are:  811\n"
     ]
    },
    {
     "data": {
      "image/png": "[encoded data removed]",
      "text/plain": [
       "<matplotlib.figure.Figure at 0x7f8a5db5cf28>"
      ]
     },
     "metadata": {},
     "output_type": "display_data"
    }
   ],
   "source": [
    "# finding the incorrect predictions\n",
    "incorrect = np.where(predicted_classes != test_labels)[0]\n",
    "\n",
    "print(\"Incorrectly identified samples are: \", len(incorrect))\n",
    "for i, incorrect in enumerate(incorrect[:9]):\n",
    "    plt.subplot(3,3,i+1)\n",
    "    plt.imshow(test_data[incorrect].reshape(28,28), cmap = 'gray', interpolation = 'none')\n",
    "    plt.title(\"Predicted {} class {}\".format(predicted_classes[incorrect], test_labels[incorrect]))\n",
    "    plt.tight_layout()"
   ]
  },
  {
   "cell_type": "markdown",
   "metadata": {},
   "source": [
    "### Metrics"
   ]
  },
  {
   "cell_type": "code",
   "execution_count": 75,
   "metadata": {},
   "outputs": [
    {
     "name": "stdout",
     "output_type": "stream",
     "text": [
      "Accuracy:  0.9189\n"
     ]
    }
   ],
   "source": [
    "# Accuracy\n",
    "print(\"Accuracy: \", accuracy_score(test_labels, predicted_classes))"
   ]
  },
  {
   "cell_type": "code",
   "execution_count": 76,
   "metadata": {},
   "outputs": [
    {
     "name": "stdout",
     "output_type": "stream",
     "text": [
      "             precision    recall  f1-score   support\n",
      "\n",
      "    Class 0       0.85      0.88      0.86      1000\n",
      "    Class 1       0.99      0.98      0.99      1000\n",
      "    Class 2       0.88      0.90      0.89      1000\n",
      "    Class 3       0.89      0.93      0.91      1000\n",
      "    Class 4       0.84      0.90      0.87      1000\n",
      "    Class 5       0.99      0.98      0.99      1000\n",
      "    Class 6       0.82      0.71      0.76      1000\n",
      "    Class 7       0.96      0.97      0.97      1000\n",
      "    Class 8       0.99      0.98      0.98      1000\n",
      "    Class 9       0.97      0.96      0.97      1000\n",
      "\n",
      "avg / total       0.92      0.92      0.92     10000\n",
      "\n"
     ]
    }
   ],
   "source": [
    "# Classification report\n",
    "target_names = [\"Class {}\".format(i) for i in range(num_classes)]\n",
    "print(classification_report(test_labels, predicted_classes, target_names=target_names))"
   ]
  },
  {
   "cell_type": "code",
   "execution_count": 80,
   "metadata": {},
   "outputs": [],
   "source": [
    "def plot_confusion_matrix(cm, classes,\n",
    "                          normalize=False,\n",
    "                          title='Confusion matrix',\n",
    "                          cmap=plt.cm.Blues):\n",
    "    \"\"\"\n",
    "    This function prints and plots the confusion matrix.\n",
    "    Normalization can be applied by setting `normalize=True`.\n",
    "    \"\"\"\n",
    "#     if normalize:\n",
    "#         cm = cm.astype('float') / cm.sum(axis=1)[:, np.newaxis]\n",
    "#         print(\"Normalized confusion matrix\")\n",
    "#     else:\n",
    "#         print('Confusion matrix, without normalization')\n",
    "\n",
    "    plt.imshow(cm, interpolation='nearest', cmap=cmap)\n",
    "    plt.title(title)\n",
    "    plt.colorbar()\n",
    "    tick_marks = np.arange(len(classes))\n",
    "    plt.xticks(tick_marks, classes, rotation=45)\n",
    "    plt.yticks(tick_marks, classes)\n",
    "\n",
    "    fmt = '.2f' if normalize else 'd'\n",
    "    thresh = cm.max() / 2.\n",
    "    for i, j in itertools.product(range(cm.shape[0]), range(cm.shape[1])):\n",
    "        plt.text(j, i, format(cm[i, j], fmt),\n",
    "                 horizontalalignment=\"center\",\n",
    "                 color=\"white\" if cm[i, j] > thresh else \"black\")\n",
    "\n",
    "    plt.tight_layout()\n",
    "    plt.ylabel('True label')\n",
    "    plt.xlabel('Predicted label')"
   ]
  },
  {
   "cell_type": "code",
   "execution_count": 81,
   "metadata": {},
   "outputs": [
    {
     "data": {
      "text/plain": [
       "array([0, 1, 2, 3, 4, 5, 6, 7, 8, 9], dtype=uint64)"
      ]
     },
     "execution_count": 81,
     "metadata": {},
     "output_type": "execute_result"
    }
   ],
   "source": [
    "np.unique(test_labels)"
   ]
  },
  {
   "cell_type": "code",
   "execution_count": 82,
   "metadata": {},
   "outputs": [
    {
     "data": {
      "image/png": "[encoded data removed]",
      "text/plain": [
       "<matplotlib.figure.Figure at 0x7f8989531b70>"
      ]
     },
     "metadata": {},
     "output_type": "display_data"
    },
    {
     "data": {
      "image/png": "[encoded data removed]",
      "text/plain": [
       "<matplotlib.figure.Figure at 0x7f898b8e2b38>"
      ]
     },
     "metadata": {},
     "output_type": "display_data"
    }
   ],
   "source": [
    "class_names = np.unique(test_labels)\n",
    "\n",
    "# Compute confusion matrix\n",
    "cnf_matrix = confusion_matrix(test_labels, predicted_classes)\n",
    "np.set_printoptions(precision=2)\n",
    "\n",
    "# Plot non-normalized confusion matrix\n",
    "plt.figure()\n",
    "plot_confusion_matrix(cnf_matrix, classes=class_names,\n",
    "                      title='Confusion matrix, without normalization')\n",
    "\n",
    "# Plot normalized confusion matrix\n",
    "plt.figure()\n",
    "plot_confusion_matrix(cnf_matrix, classes=class_names, normalize=True,\n",
    "                      title='Normalized confusion matrix')\n",
    "\n",
    "plt.show()"
   ]
  },
  {
   "cell_type": "markdown",
   "metadata": {},
   "source": [
    "We learned how to use an autoencoder to classify images with python and keras. "
   ]
  }
 ],
 "metadata": {
  "kernelspec": {
   "display_name": "Python 3",
   "language": "python",
   "name": "python3"
  },
  "language_info": {
   "codemirror_mode": {
    "name": "ipython",
    "version": 3
   },
   "file_extension": ".py",
   "mimetype": "text/x-python",
   "name": "python",
   "nbconvert_exporter": "python",
   "pygments_lexer": "ipython3",
   "version": "3.6.4"
  }
 },
 "nbformat": 4,
 "nbformat_minor": 2
}
